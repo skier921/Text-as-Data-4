{
  "nbformat": 4,
  "nbformat_minor": 0,
  "metadata": {
    "colab": {
      "provenance": []
    },
    "kernelspec": {
      "name": "python3",
      "display_name": "Python 3"
    },
    "language_info": {
      "name": "python"
    }
  },
  "cells": [
    {
      "cell_type": "code",
      "source": [
        "!pip install pyLDAvis\n",
        "!pip install gensim\n",
        "!pip install --upgrade numpy\n",
        "!pip install pandas==1.5.3"
      ],
      "metadata": {
        "id": "jIzfB9c2-EG7"
      },
      "execution_count": null,
      "outputs": []
    },
    {
      "cell_type": "markdown",
      "source": [
        "*1/2* **1. Data acquisition, description, and preparation 2.Research Question**\n",
        "\n",
        "The research question I aim to explore with topic modeling is: \"**How did regional parties in the UK, along with UKIP, adapt and respond to the realities of Brexit post-referendum?**\" I would like to delve into the understanding of the thematic shifts and focuses in party manifestos and communications during a crititcal point in UK politics. In using the Latent Dirichlet Allocation (LDA) by examining the frequency and co-occurrence of words across various texts, the LDA can reveal the dominant themes and concerns in these political manifestos. My dataset, comprising of seven party platforms from 2017-2019 of UKIP, SNP, Plaid Cymru (Party of Wales), and DUP, provides a good an varied dataset for this analysis. I have chosen to go with regional parties and UKIP to together to ge to see how all parties tried to take a postive spin of Brexit regional and UKIP after the referendum. The chosen time frame captures the immediate aftermath of the Brexit referendum, a period likely to be ripe with scottish independece desire, fear in Norhtern Ireland over a hard border, worries in all regions about econmic impacts of brexit and UKIP's push for more sovereignty being a tying theme for all the parties."
      ],
      "metadata": {
        "id": "NtN46olNKQBZ"
      }
    },
    {
      "cell_type": "markdown",
      "source": [
        "##Import Libraries"
      ],
      "metadata": {
        "id": "T8YlOYYv-wwV"
      }
    },
    {
      "cell_type": "code",
      "source": [
        "import os\n",
        "import pandas as pd\n",
        "import re\n",
        "import numpy\n",
        "import gensim\n",
        "import pyLDAvis\n",
        "import pyLDAvis.gensim_models\n",
        "import matplotlib.pyplot as plt\n",
        "from gensim.models import LdaModel\n",
        "from gensim.corpora import Dictionary\n",
        "from nltk.tokenize import word_tokenize\n",
        "from nltk.corpus import stopwords\n",
        "import string\n",
        "import nltk\n",
        "from sklearn.feature_extraction.text import TfidfVectorizer\n",
        "nltk.download('punkt')\n",
        "nltk.download('stopwords')"
      ],
      "metadata": {
        "colab": {
          "base_uri": "https://localhost:8080/"
        },
        "id": "yx6nwllNnyje",
        "outputId": "8d93ab6d-86d2-425c-c3b2-a4568ee7b2ff"
      },
      "execution_count": 7,
      "outputs": [
        {
          "output_type": "stream",
          "name": "stderr",
          "text": [
            "/usr/local/lib/python3.10/dist-packages/ipykernel/ipkernel.py:283: DeprecationWarning: `should_run_async` will not call `transform_cell` automatically in the future. Please pass the result to `transformed_cell` argument and any exception that happen during thetransform in `preprocessing_exc_tuple` in IPython 7.17 and above.\n",
            "  and should_run_async(code)\n",
            "[nltk_data] Downloading package punkt to /root/nltk_data...\n",
            "[nltk_data]   Package punkt is already up-to-date!\n",
            "[nltk_data] Downloading package stopwords to /root/nltk_data...\n",
            "[nltk_data]   Package stopwords is already up-to-date!\n"
          ]
        },
        {
          "output_type": "execute_result",
          "data": {
            "text/plain": [
              "True"
            ]
          },
          "metadata": {},
          "execution_count": 7
        }
      ]
    },
    {
      "cell_type": "markdown",
      "source": [
        "##Preprocessing and Document Matrix\n"
      ],
      "metadata": {
        "id": "_XH--KDG-2QB"
      }
    },
    {
      "cell_type": "code",
      "source": [
        "def preprocess_text(text):\n",
        "    text = text.lower()\n",
        "    text = re.sub(r'\\W', ' ', text)\n",
        "    text = re.sub(r'\\s+[a-zA-Z]\\s+', ' ', text)\n",
        "    text = re.sub(r'\\^[a-zA-Z]\\s+', ' ', text)\n",
        "    text = re.sub(r'\\s+', ' ', text, flags=re.I)\n",
        "    return text\n"
      ],
      "metadata": {
        "colab": {
          "base_uri": "https://localhost:8080/"
        },
        "id": "K3ZWp4TC-3MO",
        "outputId": "4544ecf0-0a25-41c0-bd86-8c93dbac91f8"
      },
      "execution_count": 4,
      "outputs": [
        {
          "output_type": "stream",
          "name": "stderr",
          "text": [
            "/usr/local/lib/python3.10/dist-packages/ipykernel/ipkernel.py:283: DeprecationWarning: `should_run_async` will not call `transform_cell` automatically in the future. Please pass the result to `transformed_cell` argument and any exception that happen during thetransform in `preprocessing_exc_tuple` in IPython 7.17 and above.\n",
            "  and should_run_async(code)\n"
          ]
        }
      ]
    },
    {
      "cell_type": "code",
      "source": [
        "folder_path = '/content/Data'\n",
        "\n",
        "all_texts = pd.DataFrame(columns=['text'])\n",
        "\n",
        "for filename in os.listdir(folder_path):\n",
        "    if filename.endswith('.csv'):\n",
        "        file_path = os.path.join(folder_path, filename)\n",
        "        manifesto = pd.read_csv(file_path, usecols=[0], header=0)\n",
        "        manifesto.columns = ['text']\n",
        "        manifesto['processed_text'] = manifesto['text'].apply(preprocess_text)\n",
        "        all_texts = pd.concat([all_texts, manifesto], ignore_index=True)\n"
      ],
      "metadata": {
        "colab": {
          "base_uri": "https://localhost:8080/"
        },
        "id": "LpWVxLmK-8IC",
        "outputId": "b48a6de0-506f-48c3-dfb1-6351eaa442e4"
      },
      "execution_count": 5,
      "outputs": [
        {
          "output_type": "stream",
          "name": "stderr",
          "text": [
            "/usr/local/lib/python3.10/dist-packages/ipykernel/ipkernel.py:283: DeprecationWarning: `should_run_async` will not call `transform_cell` automatically in the future. Please pass the result to `transformed_cell` argument and any exception that happen during thetransform in `preprocessing_exc_tuple` in IPython 7.17 and above.\n",
            "  and should_run_async(code)\n"
          ]
        }
      ]
    },
    {
      "cell_type": "code",
      "source": [
        "all_texts['text'] = all_texts['text'].apply(preprocess_text)\n",
        "\n",
        "tfidf_vectorizer = TfidfVectorizer(stop_words='english')\n",
        "tfidf_matrix = tfidf_vectorizer.fit_transform(all_texts['text'])\n",
        "tfidf_df = pd.DataFrame(tfidf_matrix.toarray(), columns=tfidf_vectorizer.get_feature_names_out())\n",
        "tfidf_df"
      ],
      "metadata": {
        "colab": {
          "base_uri": "https://localhost:8080/",
          "height": 473
        },
        "id": "aYxsBUHjzFMk",
        "outputId": "b8cd93f4-727d-423f-e318-ebe0709d28da"
      },
      "execution_count": 9,
      "outputs": [
        {
          "output_type": "stream",
          "name": "stderr",
          "text": [
            "/usr/local/lib/python3.10/dist-packages/ipykernel/ipkernel.py:283: DeprecationWarning: `should_run_async` will not call `transform_cell` automatically in the future. Please pass the result to `transformed_cell` argument and any exception that happen during thetransform in `preprocessing_exc_tuple` in IPython 7.17 and above.\n",
            "  and should_run_async(code)\n"
          ]
        },
        {
          "output_type": "execute_result",
          "data": {
            "text/plain": [
              "       00  000  000per  049  067   10  100  1000  100bn  108  ...  ynys  \\\n",
              "0     0.0  0.0     0.0  0.0  0.0  0.0  0.0   0.0    0.0  0.0  ...   0.0   \n",
              "1     0.0  0.0     0.0  0.0  0.0  0.0  0.0   0.0    0.0  0.0  ...   0.0   \n",
              "2     0.0  0.0     0.0  0.0  0.0  0.0  0.0   0.0    0.0  0.0  ...   0.0   \n",
              "3     0.0  0.0     0.0  0.0  0.0  0.0  0.0   0.0    0.0  0.0  ...   0.0   \n",
              "4     0.0  0.0     0.0  0.0  0.0  0.0  0.0   0.0    0.0  0.0  ...   0.0   \n",
              "...   ...  ...     ...  ...  ...  ...  ...   ...    ...  ...  ...   ...   \n",
              "6237  0.0  0.0     0.0  0.0  0.0  0.0  0.0   0.0    0.0  0.0  ...   0.0   \n",
              "6238  0.0  0.0     0.0  0.0  0.0  0.0  0.0   0.0    0.0  0.0  ...   0.0   \n",
              "6239  0.0  0.0     0.0  0.0  0.0  0.0  0.0   0.0    0.0  0.0  ...   0.0   \n",
              "6240  0.0  0.0     0.0  0.0  0.0  0.0  0.0   0.0    0.0  0.0  ...   0.0   \n",
              "6241  0.0  0.0     0.0  0.0  0.0  0.0  0.0   0.0    0.0  0.0  ...   0.0   \n",
              "\n",
              "      young  younger  youngest  youth  zealand  zealous  zero  zone  zones  \n",
              "0       0.0      0.0       0.0    0.0      0.0      0.0   0.0   0.0    0.0  \n",
              "1       0.0      0.0       0.0    0.0      0.0      0.0   0.0   0.0    0.0  \n",
              "2       0.0      0.0       0.0    0.0      0.0      0.0   0.0   0.0    0.0  \n",
              "3       0.0      0.0       0.0    0.0      0.0      0.0   0.0   0.0    0.0  \n",
              "4       0.0      0.0       0.0    0.0      0.0      0.0   0.0   0.0    0.0  \n",
              "...     ...      ...       ...    ...      ...      ...   ...   ...    ...  \n",
              "6237    0.0      0.0       0.0    0.0      0.0      0.0   0.0   0.0    0.0  \n",
              "6238    0.0      0.0       0.0    0.0      0.0      0.0   0.0   0.0    0.0  \n",
              "6239    0.0      0.0       0.0    0.0      0.0      0.0   0.0   0.0    0.0  \n",
              "6240    0.0      0.0       0.0    0.0      0.0      0.0   0.0   0.0    0.0  \n",
              "6241    0.0      0.0       0.0    0.0      0.0      0.0   0.0   0.0    0.0  \n",
              "\n",
              "[6242 rows x 7395 columns]"
            ],
            "text/html": [
              "\n",
              "  <div id=\"df-48119af0-4c86-4612-bfa2-431b62ac22f7\" class=\"colab-df-container\">\n",
              "    <div>\n",
              "<style scoped>\n",
              "    .dataframe tbody tr th:only-of-type {\n",
              "        vertical-align: middle;\n",
              "    }\n",
              "\n",
              "    .dataframe tbody tr th {\n",
              "        vertical-align: top;\n",
              "    }\n",
              "\n",
              "    .dataframe thead th {\n",
              "        text-align: right;\n",
              "    }\n",
              "</style>\n",
              "<table border=\"1\" class=\"dataframe\">\n",
              "  <thead>\n",
              "    <tr style=\"text-align: right;\">\n",
              "      <th></th>\n",
              "      <th>00</th>\n",
              "      <th>000</th>\n",
              "      <th>000per</th>\n",
              "      <th>049</th>\n",
              "      <th>067</th>\n",
              "      <th>10</th>\n",
              "      <th>100</th>\n",
              "      <th>1000</th>\n",
              "      <th>100bn</th>\n",
              "      <th>108</th>\n",
              "      <th>...</th>\n",
              "      <th>ynys</th>\n",
              "      <th>young</th>\n",
              "      <th>younger</th>\n",
              "      <th>youngest</th>\n",
              "      <th>youth</th>\n",
              "      <th>zealand</th>\n",
              "      <th>zealous</th>\n",
              "      <th>zero</th>\n",
              "      <th>zone</th>\n",
              "      <th>zones</th>\n",
              "    </tr>\n",
              "  </thead>\n",
              "  <tbody>\n",
              "    <tr>\n",
              "      <th>0</th>\n",
              "      <td>0.0</td>\n",
              "      <td>0.0</td>\n",
              "      <td>0.0</td>\n",
              "      <td>0.0</td>\n",
              "      <td>0.0</td>\n",
              "      <td>0.0</td>\n",
              "      <td>0.0</td>\n",
              "      <td>0.0</td>\n",
              "      <td>0.0</td>\n",
              "      <td>0.0</td>\n",
              "      <td>...</td>\n",
              "      <td>0.0</td>\n",
              "      <td>0.0</td>\n",
              "      <td>0.0</td>\n",
              "      <td>0.0</td>\n",
              "      <td>0.0</td>\n",
              "      <td>0.0</td>\n",
              "      <td>0.0</td>\n",
              "      <td>0.0</td>\n",
              "      <td>0.0</td>\n",
              "      <td>0.0</td>\n",
              "    </tr>\n",
              "    <tr>\n",
              "      <th>1</th>\n",
              "      <td>0.0</td>\n",
              "      <td>0.0</td>\n",
              "      <td>0.0</td>\n",
              "      <td>0.0</td>\n",
              "      <td>0.0</td>\n",
              "      <td>0.0</td>\n",
              "      <td>0.0</td>\n",
              "      <td>0.0</td>\n",
              "      <td>0.0</td>\n",
              "      <td>0.0</td>\n",
              "      <td>...</td>\n",
              "      <td>0.0</td>\n",
              "      <td>0.0</td>\n",
              "      <td>0.0</td>\n",
              "      <td>0.0</td>\n",
              "      <td>0.0</td>\n",
              "      <td>0.0</td>\n",
              "      <td>0.0</td>\n",
              "      <td>0.0</td>\n",
              "      <td>0.0</td>\n",
              "      <td>0.0</td>\n",
              "    </tr>\n",
              "    <tr>\n",
              "      <th>2</th>\n",
              "      <td>0.0</td>\n",
              "      <td>0.0</td>\n",
              "      <td>0.0</td>\n",
              "      <td>0.0</td>\n",
              "      <td>0.0</td>\n",
              "      <td>0.0</td>\n",
              "      <td>0.0</td>\n",
              "      <td>0.0</td>\n",
              "      <td>0.0</td>\n",
              "      <td>0.0</td>\n",
              "      <td>...</td>\n",
              "      <td>0.0</td>\n",
              "      <td>0.0</td>\n",
              "      <td>0.0</td>\n",
              "      <td>0.0</td>\n",
              "      <td>0.0</td>\n",
              "      <td>0.0</td>\n",
              "      <td>0.0</td>\n",
              "      <td>0.0</td>\n",
              "      <td>0.0</td>\n",
              "      <td>0.0</td>\n",
              "    </tr>\n",
              "    <tr>\n",
              "      <th>3</th>\n",
              "      <td>0.0</td>\n",
              "      <td>0.0</td>\n",
              "      <td>0.0</td>\n",
              "      <td>0.0</td>\n",
              "      <td>0.0</td>\n",
              "      <td>0.0</td>\n",
              "      <td>0.0</td>\n",
              "      <td>0.0</td>\n",
              "      <td>0.0</td>\n",
              "      <td>0.0</td>\n",
              "      <td>...</td>\n",
              "      <td>0.0</td>\n",
              "      <td>0.0</td>\n",
              "      <td>0.0</td>\n",
              "      <td>0.0</td>\n",
              "      <td>0.0</td>\n",
              "      <td>0.0</td>\n",
              "      <td>0.0</td>\n",
              "      <td>0.0</td>\n",
              "      <td>0.0</td>\n",
              "      <td>0.0</td>\n",
              "    </tr>\n",
              "    <tr>\n",
              "      <th>4</th>\n",
              "      <td>0.0</td>\n",
              "      <td>0.0</td>\n",
              "      <td>0.0</td>\n",
              "      <td>0.0</td>\n",
              "      <td>0.0</td>\n",
              "      <td>0.0</td>\n",
              "      <td>0.0</td>\n",
              "      <td>0.0</td>\n",
              "      <td>0.0</td>\n",
              "      <td>0.0</td>\n",
              "      <td>...</td>\n",
              "      <td>0.0</td>\n",
              "      <td>0.0</td>\n",
              "      <td>0.0</td>\n",
              "      <td>0.0</td>\n",
              "      <td>0.0</td>\n",
              "      <td>0.0</td>\n",
              "      <td>0.0</td>\n",
              "      <td>0.0</td>\n",
              "      <td>0.0</td>\n",
              "      <td>0.0</td>\n",
              "    </tr>\n",
              "    <tr>\n",
              "      <th>...</th>\n",
              "      <td>...</td>\n",
              "      <td>...</td>\n",
              "      <td>...</td>\n",
              "      <td>...</td>\n",
              "      <td>...</td>\n",
              "      <td>...</td>\n",
              "      <td>...</td>\n",
              "      <td>...</td>\n",
              "      <td>...</td>\n",
              "      <td>...</td>\n",
              "      <td>...</td>\n",
              "      <td>...</td>\n",
              "      <td>...</td>\n",
              "      <td>...</td>\n",
              "      <td>...</td>\n",
              "      <td>...</td>\n",
              "      <td>...</td>\n",
              "      <td>...</td>\n",
              "      <td>...</td>\n",
              "      <td>...</td>\n",
              "      <td>...</td>\n",
              "    </tr>\n",
              "    <tr>\n",
              "      <th>6237</th>\n",
              "      <td>0.0</td>\n",
              "      <td>0.0</td>\n",
              "      <td>0.0</td>\n",
              "      <td>0.0</td>\n",
              "      <td>0.0</td>\n",
              "      <td>0.0</td>\n",
              "      <td>0.0</td>\n",
              "      <td>0.0</td>\n",
              "      <td>0.0</td>\n",
              "      <td>0.0</td>\n",
              "      <td>...</td>\n",
              "      <td>0.0</td>\n",
              "      <td>0.0</td>\n",
              "      <td>0.0</td>\n",
              "      <td>0.0</td>\n",
              "      <td>0.0</td>\n",
              "      <td>0.0</td>\n",
              "      <td>0.0</td>\n",
              "      <td>0.0</td>\n",
              "      <td>0.0</td>\n",
              "      <td>0.0</td>\n",
              "    </tr>\n",
              "    <tr>\n",
              "      <th>6238</th>\n",
              "      <td>0.0</td>\n",
              "      <td>0.0</td>\n",
              "      <td>0.0</td>\n",
              "      <td>0.0</td>\n",
              "      <td>0.0</td>\n",
              "      <td>0.0</td>\n",
              "      <td>0.0</td>\n",
              "      <td>0.0</td>\n",
              "      <td>0.0</td>\n",
              "      <td>0.0</td>\n",
              "      <td>...</td>\n",
              "      <td>0.0</td>\n",
              "      <td>0.0</td>\n",
              "      <td>0.0</td>\n",
              "      <td>0.0</td>\n",
              "      <td>0.0</td>\n",
              "      <td>0.0</td>\n",
              "      <td>0.0</td>\n",
              "      <td>0.0</td>\n",
              "      <td>0.0</td>\n",
              "      <td>0.0</td>\n",
              "    </tr>\n",
              "    <tr>\n",
              "      <th>6239</th>\n",
              "      <td>0.0</td>\n",
              "      <td>0.0</td>\n",
              "      <td>0.0</td>\n",
              "      <td>0.0</td>\n",
              "      <td>0.0</td>\n",
              "      <td>0.0</td>\n",
              "      <td>0.0</td>\n",
              "      <td>0.0</td>\n",
              "      <td>0.0</td>\n",
              "      <td>0.0</td>\n",
              "      <td>...</td>\n",
              "      <td>0.0</td>\n",
              "      <td>0.0</td>\n",
              "      <td>0.0</td>\n",
              "      <td>0.0</td>\n",
              "      <td>0.0</td>\n",
              "      <td>0.0</td>\n",
              "      <td>0.0</td>\n",
              "      <td>0.0</td>\n",
              "      <td>0.0</td>\n",
              "      <td>0.0</td>\n",
              "    </tr>\n",
              "    <tr>\n",
              "      <th>6240</th>\n",
              "      <td>0.0</td>\n",
              "      <td>0.0</td>\n",
              "      <td>0.0</td>\n",
              "      <td>0.0</td>\n",
              "      <td>0.0</td>\n",
              "      <td>0.0</td>\n",
              "      <td>0.0</td>\n",
              "      <td>0.0</td>\n",
              "      <td>0.0</td>\n",
              "      <td>0.0</td>\n",
              "      <td>...</td>\n",
              "      <td>0.0</td>\n",
              "      <td>0.0</td>\n",
              "      <td>0.0</td>\n",
              "      <td>0.0</td>\n",
              "      <td>0.0</td>\n",
              "      <td>0.0</td>\n",
              "      <td>0.0</td>\n",
              "      <td>0.0</td>\n",
              "      <td>0.0</td>\n",
              "      <td>0.0</td>\n",
              "    </tr>\n",
              "    <tr>\n",
              "      <th>6241</th>\n",
              "      <td>0.0</td>\n",
              "      <td>0.0</td>\n",
              "      <td>0.0</td>\n",
              "      <td>0.0</td>\n",
              "      <td>0.0</td>\n",
              "      <td>0.0</td>\n",
              "      <td>0.0</td>\n",
              "      <td>0.0</td>\n",
              "      <td>0.0</td>\n",
              "      <td>0.0</td>\n",
              "      <td>...</td>\n",
              "      <td>0.0</td>\n",
              "      <td>0.0</td>\n",
              "      <td>0.0</td>\n",
              "      <td>0.0</td>\n",
              "      <td>0.0</td>\n",
              "      <td>0.0</td>\n",
              "      <td>0.0</td>\n",
              "      <td>0.0</td>\n",
              "      <td>0.0</td>\n",
              "      <td>0.0</td>\n",
              "    </tr>\n",
              "  </tbody>\n",
              "</table>\n",
              "<p>6242 rows × 7395 columns</p>\n",
              "</div>\n",
              "    <div class=\"colab-df-buttons\">\n",
              "\n",
              "  <div class=\"colab-df-container\">\n",
              "    <button class=\"colab-df-convert\" onclick=\"convertToInteractive('df-48119af0-4c86-4612-bfa2-431b62ac22f7')\"\n",
              "            title=\"Convert this dataframe to an interactive table.\"\n",
              "            style=\"display:none;\">\n",
              "\n",
              "  <svg xmlns=\"http://www.w3.org/2000/svg\" height=\"24px\" viewBox=\"0 -960 960 960\">\n",
              "    <path d=\"M120-120v-720h720v720H120Zm60-500h600v-160H180v160Zm220 220h160v-160H400v160Zm0 220h160v-160H400v160ZM180-400h160v-160H180v160Zm440 0h160v-160H620v160ZM180-180h160v-160H180v160Zm440 0h160v-160H620v160Z\"/>\n",
              "  </svg>\n",
              "    </button>\n",
              "\n",
              "  <style>\n",
              "    .colab-df-container {\n",
              "      display:flex;\n",
              "      gap: 12px;\n",
              "    }\n",
              "\n",
              "    .colab-df-convert {\n",
              "      background-color: #E8F0FE;\n",
              "      border: none;\n",
              "      border-radius: 50%;\n",
              "      cursor: pointer;\n",
              "      display: none;\n",
              "      fill: #1967D2;\n",
              "      height: 32px;\n",
              "      padding: 0 0 0 0;\n",
              "      width: 32px;\n",
              "    }\n",
              "\n",
              "    .colab-df-convert:hover {\n",
              "      background-color: #E2EBFA;\n",
              "      box-shadow: 0px 1px 2px rgba(60, 64, 67, 0.3), 0px 1px 3px 1px rgba(60, 64, 67, 0.15);\n",
              "      fill: #174EA6;\n",
              "    }\n",
              "\n",
              "    .colab-df-buttons div {\n",
              "      margin-bottom: 4px;\n",
              "    }\n",
              "\n",
              "    [theme=dark] .colab-df-convert {\n",
              "      background-color: #3B4455;\n",
              "      fill: #D2E3FC;\n",
              "    }\n",
              "\n",
              "    [theme=dark] .colab-df-convert:hover {\n",
              "      background-color: #434B5C;\n",
              "      box-shadow: 0px 1px 3px 1px rgba(0, 0, 0, 0.15);\n",
              "      filter: drop-shadow(0px 1px 2px rgba(0, 0, 0, 0.3));\n",
              "      fill: #FFFFFF;\n",
              "    }\n",
              "  </style>\n",
              "\n",
              "    <script>\n",
              "      const buttonEl =\n",
              "        document.querySelector('#df-48119af0-4c86-4612-bfa2-431b62ac22f7 button.colab-df-convert');\n",
              "      buttonEl.style.display =\n",
              "        google.colab.kernel.accessAllowed ? 'block' : 'none';\n",
              "\n",
              "      async function convertToInteractive(key) {\n",
              "        const element = document.querySelector('#df-48119af0-4c86-4612-bfa2-431b62ac22f7');\n",
              "        const dataTable =\n",
              "          await google.colab.kernel.invokeFunction('convertToInteractive',\n",
              "                                                    [key], {});\n",
              "        if (!dataTable) return;\n",
              "\n",
              "        const docLinkHtml = 'Like what you see? Visit the ' +\n",
              "          '<a target=\"_blank\" href=https://colab.research.google.com/notebooks/data_table.ipynb>data table notebook</a>'\n",
              "          + ' to learn more about interactive tables.';\n",
              "        element.innerHTML = '';\n",
              "        dataTable['output_type'] = 'display_data';\n",
              "        await google.colab.output.renderOutput(dataTable, element);\n",
              "        const docLink = document.createElement('div');\n",
              "        docLink.innerHTML = docLinkHtml;\n",
              "        element.appendChild(docLink);\n",
              "      }\n",
              "    </script>\n",
              "  </div>\n",
              "\n",
              "\n",
              "<div id=\"df-fec20f83-ada9-46ab-b927-47d1f4c2139a\">\n",
              "  <button class=\"colab-df-quickchart\" onclick=\"quickchart('df-fec20f83-ada9-46ab-b927-47d1f4c2139a')\"\n",
              "            title=\"Suggest charts\"\n",
              "            style=\"display:none;\">\n",
              "\n",
              "<svg xmlns=\"http://www.w3.org/2000/svg\" height=\"24px\"viewBox=\"0 0 24 24\"\n",
              "     width=\"24px\">\n",
              "    <g>\n",
              "        <path d=\"M19 3H5c-1.1 0-2 .9-2 2v14c0 1.1.9 2 2 2h14c1.1 0 2-.9 2-2V5c0-1.1-.9-2-2-2zM9 17H7v-7h2v7zm4 0h-2V7h2v10zm4 0h-2v-4h2v4z\"/>\n",
              "    </g>\n",
              "</svg>\n",
              "  </button>\n",
              "\n",
              "<style>\n",
              "  .colab-df-quickchart {\n",
              "      --bg-color: #E8F0FE;\n",
              "      --fill-color: #1967D2;\n",
              "      --hover-bg-color: #E2EBFA;\n",
              "      --hover-fill-color: #174EA6;\n",
              "      --disabled-fill-color: #AAA;\n",
              "      --disabled-bg-color: #DDD;\n",
              "  }\n",
              "\n",
              "  [theme=dark] .colab-df-quickchart {\n",
              "      --bg-color: #3B4455;\n",
              "      --fill-color: #D2E3FC;\n",
              "      --hover-bg-color: #434B5C;\n",
              "      --hover-fill-color: #FFFFFF;\n",
              "      --disabled-bg-color: #3B4455;\n",
              "      --disabled-fill-color: #666;\n",
              "  }\n",
              "\n",
              "  .colab-df-quickchart {\n",
              "    background-color: var(--bg-color);\n",
              "    border: none;\n",
              "    border-radius: 50%;\n",
              "    cursor: pointer;\n",
              "    display: none;\n",
              "    fill: var(--fill-color);\n",
              "    height: 32px;\n",
              "    padding: 0;\n",
              "    width: 32px;\n",
              "  }\n",
              "\n",
              "  .colab-df-quickchart:hover {\n",
              "    background-color: var(--hover-bg-color);\n",
              "    box-shadow: 0 1px 2px rgba(60, 64, 67, 0.3), 0 1px 3px 1px rgba(60, 64, 67, 0.15);\n",
              "    fill: var(--button-hover-fill-color);\n",
              "  }\n",
              "\n",
              "  .colab-df-quickchart-complete:disabled,\n",
              "  .colab-df-quickchart-complete:disabled:hover {\n",
              "    background-color: var(--disabled-bg-color);\n",
              "    fill: var(--disabled-fill-color);\n",
              "    box-shadow: none;\n",
              "  }\n",
              "\n",
              "  .colab-df-spinner {\n",
              "    border: 2px solid var(--fill-color);\n",
              "    border-color: transparent;\n",
              "    border-bottom-color: var(--fill-color);\n",
              "    animation:\n",
              "      spin 1s steps(1) infinite;\n",
              "  }\n",
              "\n",
              "  @keyframes spin {\n",
              "    0% {\n",
              "      border-color: transparent;\n",
              "      border-bottom-color: var(--fill-color);\n",
              "      border-left-color: var(--fill-color);\n",
              "    }\n",
              "    20% {\n",
              "      border-color: transparent;\n",
              "      border-left-color: var(--fill-color);\n",
              "      border-top-color: var(--fill-color);\n",
              "    }\n",
              "    30% {\n",
              "      border-color: transparent;\n",
              "      border-left-color: var(--fill-color);\n",
              "      border-top-color: var(--fill-color);\n",
              "      border-right-color: var(--fill-color);\n",
              "    }\n",
              "    40% {\n",
              "      border-color: transparent;\n",
              "      border-right-color: var(--fill-color);\n",
              "      border-top-color: var(--fill-color);\n",
              "    }\n",
              "    60% {\n",
              "      border-color: transparent;\n",
              "      border-right-color: var(--fill-color);\n",
              "    }\n",
              "    80% {\n",
              "      border-color: transparent;\n",
              "      border-right-color: var(--fill-color);\n",
              "      border-bottom-color: var(--fill-color);\n",
              "    }\n",
              "    90% {\n",
              "      border-color: transparent;\n",
              "      border-bottom-color: var(--fill-color);\n",
              "    }\n",
              "  }\n",
              "</style>\n",
              "\n",
              "  <script>\n",
              "    async function quickchart(key) {\n",
              "      const quickchartButtonEl =\n",
              "        document.querySelector('#' + key + ' button');\n",
              "      quickchartButtonEl.disabled = true;  // To prevent multiple clicks.\n",
              "      quickchartButtonEl.classList.add('colab-df-spinner');\n",
              "      try {\n",
              "        const charts = await google.colab.kernel.invokeFunction(\n",
              "            'suggestCharts', [key], {});\n",
              "      } catch (error) {\n",
              "        console.error('Error during call to suggestCharts:', error);\n",
              "      }\n",
              "      quickchartButtonEl.classList.remove('colab-df-spinner');\n",
              "      quickchartButtonEl.classList.add('colab-df-quickchart-complete');\n",
              "    }\n",
              "    (() => {\n",
              "      let quickchartButtonEl =\n",
              "        document.querySelector('#df-fec20f83-ada9-46ab-b927-47d1f4c2139a button');\n",
              "      quickchartButtonEl.style.display =\n",
              "        google.colab.kernel.accessAllowed ? 'block' : 'none';\n",
              "    })();\n",
              "  </script>\n",
              "</div>\n",
              "    </div>\n",
              "  </div>\n"
            ]
          },
          "metadata": {},
          "execution_count": 9
        }
      ]
    },
    {
      "cell_type": "markdown",
      "source": [
        "## Tokenization"
      ],
      "metadata": {
        "id": "RY8HK9Oj_EfT"
      }
    },
    {
      "cell_type": "code",
      "source": [
        "stop_words = set(stopwords.words('english'))\n",
        "\n",
        "def tokenize_and_preprocess(text):\n",
        "    tokens = word_tokenize(text)\n",
        "    tokens = [token for token in tokens if token not in stop_words]\n",
        "    tokens = [token for token in tokens if token not in string.punctuation]\n",
        "    tokens = [token for token in tokens if token.isalnum()]\n",
        "    return tokens\n",
        "\n",
        "all_texts['tokens'] = all_texts['processed_text'].apply(tokenize_and_preprocess)"
      ],
      "metadata": {
        "colab": {
          "base_uri": "https://localhost:8080/"
        },
        "id": "QZK-i1_K_Djw",
        "outputId": "31968df3-54e0-4411-b145-0d312daf66a8"
      },
      "execution_count": null,
      "outputs": [
        {
          "output_type": "stream",
          "name": "stderr",
          "text": [
            "/usr/local/lib/python3.10/dist-packages/ipykernel/ipkernel.py:283: DeprecationWarning: `should_run_async` will not call `transform_cell` automatically in the future. Please pass the result to `transformed_cell` argument and any exception that happen during thetransform in `preprocessing_exc_tuple` in IPython 7.17 and above.\n",
            "  and should_run_async(code)\n"
          ]
        }
      ]
    },
    {
      "cell_type": "markdown",
      "source": [
        "#LDA"
      ],
      "metadata": {
        "id": "GaK_Opm3_Lib"
      }
    },
    {
      "cell_type": "markdown",
      "source": [
        "*3*\n",
        "\n",
        "LDA analyzes words and phrases across documents (for example political manifestos) and identifies clusters of terms that frequently appear together, which it then interprets as topics.\n",
        "\n",
        "In executing this model for the analysis, I made critical choices regarding its configuration. One such choice was the number of topics to extract, I've have set at five. This defines how many distinct themes you expect to find in the collection of documents. Choosing fewer topics might lead to a simplistic view where distinct themes of the manifestos are merged, while too many topics can fragment the analysis, leading to overly specific topics. Another key parameter was the number of 'passes' the LDA model makes over the data, set at 25 in my case. More passes typically lead to more refined and accurate topic assignments but require more computational resources and time.\n",
        "\n",
        "These choices significantly influence how effectively the model can evaluate the research question: \"How did the regional parties, along with UKIP, attempt to reconcile with the reality of Brexit post-referendum?\" By opting for five topics, the goal was to strike a balance between capturing a broad spectrum of themes and maintaining analytical clarity."
      ],
      "metadata": {
        "id": "jdkA6BLUIlIV"
      }
    },
    {
      "cell_type": "markdown",
      "source": [
        "##Corpus for LDA"
      ],
      "metadata": {
        "id": "tkQVKZFx_RYA"
      }
    },
    {
      "cell_type": "code",
      "source": [
        "dictionary = Dictionary(all_texts['tokens'])\n",
        "corpus = [dictionary.doc2bow(tokens) for tokens in all_texts['tokens']]"
      ],
      "metadata": {
        "colab": {
          "base_uri": "https://localhost:8080/"
        },
        "id": "H0SRop6Y_LDE",
        "outputId": "16f79bfa-35f8-4436-b3d9-2b60c2d368dd"
      },
      "execution_count": null,
      "outputs": [
        {
          "output_type": "stream",
          "name": "stderr",
          "text": [
            "/usr/local/lib/python3.10/dist-packages/ipykernel/ipkernel.py:283: DeprecationWarning: `should_run_async` will not call `transform_cell` automatically in the future. Please pass the result to `transformed_cell` argument and any exception that happen during thetransform in `preprocessing_exc_tuple` in IPython 7.17 and above.\n",
            "  and should_run_async(code)\n"
          ]
        }
      ]
    },
    {
      "cell_type": "markdown",
      "source": [
        "##Train LDA Model and Print Topics"
      ],
      "metadata": {
        "id": "ovFYghj5_UWy"
      }
    },
    {
      "cell_type": "code",
      "source": [
        "num_topics = 5\n",
        "\n",
        "lda_model = LdaModel(corpus, num_topics=num_topics, id2word=dictionary, passes=25)\n",
        "\n",
        "topics = lda_model.print_topics(num_topics=num_topics, num_words=10)\n",
        "for topic_number, topic_words in topics:\n",
        "    print(f\"Topic {topic_number + 1}: {topic_words}\")"
      ],
      "metadata": {
        "colab": {
          "base_uri": "https://localhost:8080/"
        },
        "id": "xYYOxTaX_T5F",
        "outputId": "1452e6c8-06c3-4574-92fd-410ba7c521b7"
      },
      "execution_count": null,
      "outputs": [
        {
          "output_type": "stream",
          "name": "stderr",
          "text": [
            "/usr/local/lib/python3.10/dist-packages/ipykernel/ipkernel.py:283: DeprecationWarning: `should_run_async` will not call `transform_cell` automatically in the future. Please pass the result to `transformed_cell` argument and any exception that happen during thetransform in `preprocessing_exc_tuple` in IPython 7.17 and above.\n",
            "  and should_run_async(code)\n"
          ]
        },
        {
          "output_type": "stream",
          "name": "stdout",
          "text": [
            "Topic 1: 0.018*\"people\" + 0.012*\"system\" + 0.008*\"house\" + 0.006*\"health\" + 0.006*\"ukip\" + 0.006*\"united\" + 0.006*\"dup\" + 0.005*\"diesel\" + 0.005*\"single\" + 0.005*\"services\"\n",
            "Topic 2: 0.018*\"eu\" + 0.017*\"ireland\" + 0.017*\"northern\" + 0.012*\"uk\" + 0.009*\"deal\" + 0.007*\"wales\" + 0.006*\"support\" + 0.006*\"security\" + 0.005*\"global\" + 0.005*\"funding\"\n",
            "Topic 3: 0.021*\"ukip\" + 0.011*\"energy\" + 0.010*\"britain\" + 0.008*\"new\" + 0.007*\"animal\" + 0.006*\"would\" + 0.006*\"local\" + 0.005*\"jobs\" + 0.005*\"cost\" + 0.005*\"welfare\"\n",
            "Topic 4: 0.018*\"scotland\" + 0.015*\"government\" + 0.011*\"uk\" + 0.008*\"snp\" + 0.008*\"wales\" + 0.007*\"scottish\" + 0.006*\"people\" + 0.006*\"westminster\" + 0.006*\"parliament\" + 0.006*\"brexit\"\n",
            "Topic 5: 0.015*\"government\" + 0.014*\"uk\" + 0.011*\"tax\" + 0.011*\"snp\" + 0.008*\"support\" + 0.007*\"mps\" + 0.006*\"pay\" + 0.005*\"ukip\" + 0.005*\"national\" + 0.005*\"women\"\n"
          ]
        }
      ]
    },
    {
      "cell_type": "markdown",
      "source": [
        "##pyLDAvis"
      ],
      "metadata": {
        "id": "8nN-jszG_dd2"
      }
    },
    {
      "cell_type": "code",
      "source": [
        "pyldavis_data = pyLDAvis.gensim_models.prepare(lda_model, corpus, dictionary)\n",
        "pyLDAvis.display(pyldavis_data)"
      ],
      "metadata": {
        "colab": {
          "base_uri": "https://localhost:8080/",
          "height": 966
        },
        "id": "1B9YX_Cf_dEB",
        "outputId": "324366d2-91c6-49f2-ee42-855b9534c5e1"
      },
      "execution_count": null,
      "outputs": [
        {
          "output_type": "stream",
          "name": "stderr",
          "text": [
            "/usr/local/lib/python3.10/dist-packages/ipykernel/ipkernel.py:283: DeprecationWarning: `should_run_async` will not call `transform_cell` automatically in the future. Please pass the result to `transformed_cell` argument and any exception that happen during thetransform in `preprocessing_exc_tuple` in IPython 7.17 and above.\n",
            "  and should_run_async(code)\n",
            "/usr/local/lib/python3.10/dist-packages/pandas/core/dtypes/cast.py:1641: DeprecationWarning: np.find_common_type is deprecated.  Please use `np.result_type` or `np.promote_types`.\n",
            "See https://numpy.org/devdocs/release/1.25.0-notes.html and the docs for more information.  (Deprecated NumPy 1.25)\n",
            "  return np.find_common_type(types, [])\n"
          ]
        },
        {
          "output_type": "execute_result",
          "data": {
            "text/plain": [
              "<IPython.core.display.HTML object>"
            ],
            "text/html": [
              "\n",
              "<link rel=\"stylesheet\" type=\"text/css\" href=\"https://cdn.jsdelivr.net/gh/bmabey/pyLDAvis@3.4.0/pyLDAvis/js/ldavis.v1.0.0.css\">\n",
              "\n",
              "\n",
              "<div id=\"ldavis_el27701382805116538086894319951\" style=\"background-color:white;\"></div>\n",
              "<script type=\"text/javascript\">\n",
              "\n",
              "var ldavis_el27701382805116538086894319951_data = {\"mdsDat\": {\"x\": [-0.04896086554421191, -0.0672797604134498, 0.015601953213371782, -0.15703542272529591, 0.2576740954695858], \"y\": [0.0009383371564427617, -0.06576348144366982, -0.20677084014859073, 0.17153170352720845, 0.10006428090860922], \"topics\": [1, 2, 3, 4, 5], \"cluster\": [1, 1, 1, 1, 1], \"Freq\": [27.85707920865761, 20.542201473250977, 19.20694548588341, 17.036000363257465, 15.357773468950542]}, \"tinfo\": {\"Term\": [\"ireland\", \"northern\", \"scotland\", \"people\", \"government\", \"eu\", \"tax\", \"ukip\", \"snp\", \"britain\", \"deal\", \"system\", \"house\", \"energy\", \"uk\", \"animal\", \"scottish\", \"rural\", \"united\", \"westminster\", \"diesel\", \"parliament\", \"single\", \"dup\", \"global\", \"forces\", \"jobs\", \"lords\", \"kingdom\", \"mps\", \"rural\", \"2015\", \"powers\", \"prices\", \"countryside\", \"devolution\", \"pledges\", \"hands\", \"matters\", \"drivers\", \"say\", \"authorities\", \"2008\", \"3\", \"according\", \"6\", \"stand\", \"4\", \"repeal\", \"lower\", \"figures\", \"plastic\", \"prioritising\", \"bad\", \"total\", \"nuclear\", \"independence\", \"hs2\", \"flooding\", \"taken\", \"scotland\", \"change\", \"communities\", \"westminster\", \"opportunity\", \"million\", \"scottish\", \"parliament\", \"brexit\", \"government\", \"climate\", \"rights\", \"year\", \"wales\", \"billion\", \"policy\", \"snp\", \"economy\", \"per\", \"uk\", \"mps\", \"people\", \"current\", \"energy\", \"businesses\", \"eu\", \"public\", \"one\", \"support\", \"national\", \"welsh\", \"politics\", \"referenda\", \"fuel\", \"tax\", \"child\", \"wildlife\", \"done\", \"pension\", \"parks\", \"tackle\", \"bills\", \"age\", \"credit\", \"targets\", \"personnel\", \"basis\", \"operate\", \"parliamentary\", \"self\", \"scrapping\", \"funded\", \"delivers\", \"efforts\", \"remove\", \"aim\", \"freeze\", \"80\", \"big\", \"violence\", \"proved\", \"women\", \"call\", \"poverty\", \"vat\", \"pay\", \"snp\", \"government\", \"council\", \"education\", \"low\", \"uk\", \"increase\", \"mps\", \"party\", \"cut\", \"support\", \"national\", \"end\", \"working\", \"plaid\", \"cymru\", \"cost\", \"work\", \"ukip\", \"ensure\", \"new\", \"must\", \"house\", \"united\", \"diesel\", \"single\", \"forces\", \"lords\", \"kingdom\", \"foreign\", \"aid\", \"promote\", \"armed\", \"legal\", \"bus\", \"commons\", \"start\", \"puts\", \"chamber\", \"fairer\", \"boost\", \"crisis\", \"matter\", \"airport\", \"transport\", \"legislature\", \"ability\", \"expansion\", \"comes\", \"prison\", \"disabled\", \"older\", \"believes\", \"much\", \"system\", \"housing\", \"people\", \"dup\", \"care\", \"introduce\", \"health\", \"issues\", \"services\", \"help\", \"place\", \"make\", \"social\", \"also\", \"power\", \"ukip\", \"new\", \"support\", \"local\", \"uk\", \"world\", \"ireland\", \"northern\", \"deal\", \"global\", \"farmers\", \"mep\", \"air\", \"given\", \"membership\", \"fish\", \"vehicle\", \"politicians\", \"sea\", \"exports\", \"severely\", \"25\", \"option\", \"tourism\", \"present\", \"farm\", \"direct\", \"farms\", \"passenger\", \"effect\", \"site\", \"problems\", \"prevents\", \"banning\", \"rest\", \"value\", \"capacity\", \"testing\", \"eu\", \"security\", \"industrial\", \"funding\", \"charging\", \"food\", \"duty\", \"trade\", \"uk\", \"years\", \"economic\", \"wales\", \"support\", \"democracy\", \"international\", \"us\", \"industry\", \"review\", \"scotland\", \"future\", \"new\", \"use\", \"britain\", \"animal\", \"schools\", \"green\", \"keeping\", \"smaller\", \"open\", \"spokesman\", \"proportional\", \"shale\", \"land\", \"taxes\", \"cutting\", \"cars\", \"votes\", \"agriculture\", \"ban\", \"animals\", \"representation\", \"councils\", \"general\", \"budgets\", \"left\", \"simply\", \"conservatives\", \"commercial\", \"coal\", \"amend\", \"investing\", \"removing\", \"intensive\", \"welfare\", \"money\", \"standards\", \"ukip\", \"jobs\", \"energy\", \"business\", \"day\", \"vehicles\", \"new\", \"would\", \"cost\", \"local\", \"environmental\", \"legislation\", \"environment\", \"gas\", \"time\", \"party\", \"need\", \"additional\", \"must\", \"however\", \"000\"], \"Freq\": [186.0, 182.0, 350.0, 360.0, 488.0, 328.0, 147.0, 406.0, 288.0, 94.0, 97.0, 213.0, 93.0, 201.0, 536.0, 71.0, 154.0, 95.0, 68.0, 123.0, 66.0, 145.0, 65.0, 95.0, 56.0, 59.0, 75.0, 58.0, 57.0, 201.0, 94.74229011995855, 68.5340015643995, 61.85193104406952, 51.182474921394046, 51.44204876661716, 45.858201872527616, 43.91533035426432, 42.77932472846303, 40.90690559878995, 44.39656185012382, 37.99707352218251, 37.19913769871584, 36.27008113541062, 34.74794762194373, 34.93471863236566, 34.58346518536671, 72.32741842311644, 33.02427351217557, 32.2369838274292, 31.721121881859215, 29.787503720608157, 29.747523769183932, 29.509571589192227, 28.55304164422378, 27.92376863571628, 27.81025184336443, 27.054382093997123, 26.490287202910917, 26.87383895273109, 26.933447976578112, 308.16701898700313, 89.1732290778121, 72.44864939619877, 108.77884583669045, 47.368631953130865, 87.56946025693115, 121.4814785970187, 108.41585235818442, 102.36186742370865, 257.10644601382086, 67.59039500707549, 72.49988749699166, 95.91517091226697, 134.61243748087983, 61.02304090129845, 91.93261226433745, 138.78166547633288, 73.97160841240067, 79.91057601014424, 183.5968832750939, 97.90666576157633, 111.04611553071172, 61.28406649271069, 79.54656590265424, 58.04725400272595, 84.13891488124216, 66.8421479418301, 61.42786662923751, 70.41443986349827, 65.2161637443911, 62.16784240106919, 54.50032944983057, 54.751051255743846, 50.25514837461164, 144.94686701730097, 48.13953732514072, 51.06101761751714, 40.595395851694775, 40.13340621427799, 46.23530206058812, 37.792328460549115, 31.76313324170653, 31.215653495872314, 29.898564859687365, 30.11550024546878, 28.887260268384473, 27.46633244196911, 25.97481207838111, 25.25620218041367, 24.09916347781333, 23.902227961479813, 23.39141789156487, 22.88660673293721, 22.35670540148242, 22.336482128439968, 22.2939154972363, 22.066237247327575, 20.737659069229498, 20.505574220902048, 20.461077922408514, 20.614464731334124, 66.80561534461494, 51.249810147796865, 61.333114895043614, 28.496124055559473, 71.2202442979195, 139.82079507329044, 196.16519674985472, 36.88598157680238, 47.70159730958047, 44.584781310504006, 176.75632426878803, 55.528771645735716, 87.09783463466033, 61.99814391479004, 43.12352688624243, 101.10784888729695, 67.58261604517469, 51.929041039003714, 42.914750979397624, 57.946328396450745, 57.89381505755404, 52.34748646707153, 53.30153676534366, 70.04555521199654, 53.57512670296241, 53.09865031701833, 46.84836650462984, 92.5028325493954, 67.47975748015224, 65.95353780520583, 64.29466530306426, 58.87130900799579, 57.537193685182096, 57.10875241831455, 55.91372181282083, 37.34558120359633, 35.65506514785896, 34.49675856017472, 33.654923957695054, 30.851253519404292, 29.66079028488413, 29.786293452175926, 27.118054395183936, 26.005544883915945, 26.145148302052444, 24.811860096756977, 23.905367334657182, 23.928784573681824, 23.937448279211775, 23.448419953186722, 22.86889375551435, 22.65345207232061, 22.116616353741776, 20.985109775542337, 20.934610746319056, 20.592171476724307, 20.092542027524903, 49.026911445392834, 38.27737254660123, 147.4266825467023, 54.301964167548284, 214.77091612054525, 67.11703700863164, 59.88242793046958, 40.77394406363131, 71.65677945329105, 45.78701362041036, 64.05542927133332, 46.70006724689206, 40.31677798668145, 53.76822383113937, 43.95756705570387, 57.597895699655695, 43.155363999394375, 68.39086527762495, 57.82316325858721, 59.09964391121525, 43.989042382007824, 49.626310893808345, 39.72230479412877, 185.6151084369917, 181.62054517850774, 96.92531743005411, 55.348615946893204, 49.35318498059775, 41.51730239395664, 33.838374160128964, 32.34119630487528, 28.870193056903567, 27.73195878717628, 27.460981062371395, 27.900700943331906, 24.640239302692095, 23.678195389755423, 24.282840068616228, 22.992463555667726, 22.336661302428816, 21.95897162795866, 20.620401899616, 20.182258699524468, 20.075048130751576, 20.00508975610618, 19.466877058401483, 19.949440879442, 18.746184688578655, 18.346103161515018, 17.68052747639113, 17.39875545614178, 17.503628359272977, 17.356985847505612, 24.794933083092438, 17.510475978788318, 193.06440329845415, 59.86862178279449, 35.32701953579044, 54.012610190121386, 33.929856466826394, 42.59842550255452, 35.018494921774504, 53.199092599296314, 125.91825036753865, 50.50588293476348, 37.73686184761739, 72.45769732685318, 67.844592713332, 33.116948161195175, 35.39443383389173, 37.996380037021254, 30.767487255517675, 32.704173607072775, 41.51887161419059, 33.349928871809055, 37.14410196035413, 32.38151606343793, 94.13430414958007, 70.77145509827034, 44.698873094331454, 42.70357360543641, 40.149226355347814, 39.341171380459556, 37.021350947979826, 35.99339751660054, 33.682105250510425, 32.34803010308578, 31.976429376593124, 31.48780848684106, 32.61180019156377, 31.247717287271353, 29.711822319992333, 29.39514800689232, 27.909794307512225, 30.048411381262422, 26.06109453690934, 25.183433223938852, 23.472015858401203, 22.57388156554902, 21.833563188793217, 21.87373121119142, 21.26849594107072, 20.908775013131848, 20.88080289640124, 20.092299482786334, 19.63224481178729, 18.69432473953623, 25.65145110393262, 46.89977672086891, 31.825276370725433, 35.070158489986284, 198.1819246749729, 52.06824012639499, 101.56633661458854, 39.93640331765952, 30.92770479337372, 41.49510283502139, 79.85643183844476, 59.39072914604872, 50.354226647114125, 56.154608350197606, 40.28559182559355, 41.980742005189285, 41.165669900753315, 36.07561002702998, 38.50828069914013, 41.53976137195124, 39.89915648369604, 35.35550232850825, 39.53376356286396, 34.479349810485246, 35.83055527320512], \"Total\": [186.0, 182.0, 350.0, 360.0, 488.0, 328.0, 147.0, 406.0, 288.0, 94.0, 97.0, 213.0, 93.0, 201.0, 536.0, 71.0, 154.0, 95.0, 68.0, 123.0, 66.0, 145.0, 65.0, 95.0, 56.0, 59.0, 75.0, 58.0, 57.0, 201.0, 95.4610600166465, 69.2499780009282, 62.570715469282185, 51.902122528015276, 52.17204360809285, 46.57498343139354, 44.62616438769102, 43.50823755365028, 41.63225456695111, 45.1931365087164, 38.7194914771833, 37.92181189034525, 37.006566773997626, 35.46589157248399, 35.65842543994613, 35.30262020310284, 73.87106964270517, 33.74434362738726, 32.974020531485124, 32.454956651563094, 30.503312580431874, 30.47014978385407, 30.24281118305767, 29.264625257792478, 28.6410190674619, 28.52632038166917, 27.778683501102496, 27.20646498833376, 27.602079198933772, 27.663318186568322, 350.23683486806505, 97.98285443671146, 78.92812876666791, 123.44045234834304, 51.88994480643271, 105.86559187006121, 154.33204385418867, 145.91416435837456, 137.76656724190286, 488.2060115919305, 88.77032415104043, 98.20008084330469, 145.8647926145538, 248.83394210824824, 82.0988575323974, 151.91156815122278, 288.18925932747106, 113.72232082025768, 132.68832755365062, 536.0490118897139, 201.47939815879886, 360.2413553354884, 98.79172502881606, 201.80144421535397, 91.23784759708755, 328.5011900223268, 151.09652090088312, 111.6297324607423, 309.1308909555724, 199.49069101478838, 123.23279999760078, 55.21714874685737, 55.49556051302753, 50.97111625189695, 147.0337075120932, 48.8449312837396, 51.8218731937322, 41.29966645210092, 40.834249434305505, 47.04994871951948, 38.498681906371445, 32.465559719926986, 31.92179253975288, 30.599281913379052, 30.826579540214293, 29.60483068171832, 28.178059499883492, 26.681188928324772, 25.95884107902112, 24.802760275074608, 24.61515504928054, 24.096291752992908, 23.599261555604258, 23.06147989449822, 23.042246249385855, 23.007207040846044, 22.77570911912709, 21.44898023247918, 21.212519895744165, 21.16676153391425, 21.330959896341348, 74.20798317640553, 56.254983604298296, 74.23325860051266, 31.009439609292208, 99.03970535629497, 288.18925932747106, 488.2060115919305, 47.3041417468761, 70.95933576528789, 64.11763430056486, 536.0490118897139, 91.7619127521267, 201.47939815879886, 118.33455618137225, 64.37372960273863, 309.1308909555724, 199.49069101478838, 111.7372236423162, 72.70719953741838, 151.7726678912811, 153.50792272147478, 124.31825264414562, 138.61677802392427, 406.7014446244257, 148.12740352485838, 268.01266404112954, 146.0542000108407, 93.23924318541359, 68.21724210655736, 66.69720068350607, 65.03826608315568, 59.61755435022559, 58.27434835297576, 57.84462489106762, 56.659977443870744, 38.0899819813047, 36.41470395849551, 35.238828512375484, 34.39615525680464, 31.59153405631805, 30.394774582399705, 30.530760756942357, 27.856832321084013, 26.74482272548723, 26.90544791619302, 25.55650869120776, 24.644622361631342, 24.674101577994474, 24.687078761039594, 24.191551088485898, 23.6076225369578, 23.392311925584714, 22.853333102117997, 21.725698567207196, 21.677266929120535, 21.33392351534604, 20.829015994313146, 56.39897849891789, 43.66674669916559, 213.88749518808328, 67.377535928674, 360.2413553354884, 95.4305930352707, 83.40337370286957, 55.27562012874784, 139.19361675258324, 75.04631769897833, 141.198419582817, 80.36688789929016, 64.00509975873578, 116.68095643267759, 81.04273832215205, 152.41643928259282, 85.1786896027794, 406.7014446244257, 268.01266404112954, 309.1308909555724, 170.14930054983174, 536.0490118897139, 105.3742121872663, 186.36259792020581, 182.3685563380427, 97.66058147678622, 56.09918915290232, 50.088752205069554, 42.24851244348431, 34.57364436290387, 33.078354535526756, 29.607217274451667, 28.47332078132861, 28.204342163468333, 28.702530682104385, 25.373802882877694, 24.41149666505701, 25.042215100965596, 23.733805170285734, 23.072039469704524, 22.695833686168466, 21.35823639273848, 20.91685687662723, 20.813925733471947, 20.74208195305105, 20.199515828881736, 20.70908636433876, 19.479470749456446, 19.08851458960127, 18.414197411318955, 18.129417341130523, 18.241723448144704, 18.095444907705733, 26.140886051102704, 18.262296953756632, 328.5011900223268, 90.01102234394122, 45.47692712752522, 80.59652159659774, 43.96874451573741, 65.54877357120414, 50.887740594911826, 106.03571140958101, 536.0490118897139, 111.2989698254927, 67.73608670660283, 248.83394210824824, 309.1308909555724, 60.319317509916985, 72.65020074295835, 113.10158017667725, 58.12321383152215, 78.6508507723617, 350.23683486806505, 115.87104458086834, 268.01266404112954, 131.96011723453512, 94.9056456664178, 71.54321207925328, 45.46401928141312, 43.465285083520556, 40.92046131669846, 40.11827167201541, 37.78710449430532, 36.755432337285086, 34.44583106700036, 33.11190907544781, 32.74247973683512, 32.258499168057256, 33.42041959492291, 32.031497828802685, 30.47952475319461, 30.160510507842652, 28.672343839708393, 30.870785739364315, 26.82764418139104, 25.952403036817575, 24.242750572760585, 23.34359954939089, 22.601434966708677, 22.643289319338784, 22.032586225653805, 21.683082437877232, 21.65985480581934, 20.85873894357776, 20.394892494162143, 19.46436371521568, 26.74661099965297, 53.152803090641704, 36.66676897944251, 42.27633807024772, 406.7014446244257, 75.0804231326878, 201.80144421535397, 53.778898522884546, 38.18859823018314, 64.51117020908723, 268.01266404112954, 148.38340366275068, 124.31825264414562, 170.14930054983174, 76.0624025771921, 85.41668598037205, 81.49636587006805, 58.49040038359019, 77.5483667311855, 118.33455618137225, 119.62870333049526, 63.181448140955915, 146.0542000108407, 71.31813986701243, 134.1863454747435], \"Category\": [\"Default\", \"Default\", \"Default\", \"Default\", \"Default\", \"Default\", \"Default\", \"Default\", \"Default\", \"Default\", \"Default\", \"Default\", \"Default\", \"Default\", \"Default\", \"Default\", \"Default\", \"Default\", \"Default\", \"Default\", \"Default\", \"Default\", \"Default\", \"Default\", \"Default\", \"Default\", \"Default\", \"Default\", \"Default\", \"Default\", \"Topic1\", \"Topic1\", \"Topic1\", \"Topic1\", \"Topic1\", \"Topic1\", \"Topic1\", \"Topic1\", \"Topic1\", \"Topic1\", \"Topic1\", \"Topic1\", \"Topic1\", \"Topic1\", \"Topic1\", \"Topic1\", \"Topic1\", \"Topic1\", \"Topic1\", \"Topic1\", \"Topic1\", \"Topic1\", \"Topic1\", \"Topic1\", \"Topic1\", \"Topic1\", \"Topic1\", \"Topic1\", \"Topic1\", \"Topic1\", \"Topic1\", \"Topic1\", \"Topic1\", \"Topic1\", \"Topic1\", \"Topic1\", \"Topic1\", \"Topic1\", \"Topic1\", \"Topic1\", \"Topic1\", \"Topic1\", \"Topic1\", \"Topic1\", \"Topic1\", \"Topic1\", \"Topic1\", \"Topic1\", \"Topic1\", \"Topic1\", \"Topic1\", \"Topic1\", \"Topic1\", \"Topic1\", \"Topic1\", \"Topic1\", \"Topic1\", \"Topic1\", \"Topic1\", \"Topic1\", \"Topic1\", \"Topic2\", \"Topic2\", \"Topic2\", \"Topic2\", \"Topic2\", \"Topic2\", \"Topic2\", \"Topic2\", \"Topic2\", \"Topic2\", \"Topic2\", \"Topic2\", \"Topic2\", \"Topic2\", \"Topic2\", \"Topic2\", \"Topic2\", \"Topic2\", \"Topic2\", \"Topic2\", \"Topic2\", \"Topic2\", \"Topic2\", \"Topic2\", \"Topic2\", \"Topic2\", \"Topic2\", \"Topic2\", \"Topic2\", \"Topic2\", \"Topic2\", \"Topic2\", \"Topic2\", \"Topic2\", \"Topic2\", \"Topic2\", \"Topic2\", \"Topic2\", \"Topic2\", \"Topic2\", \"Topic2\", \"Topic2\", \"Topic2\", \"Topic2\", \"Topic2\", \"Topic2\", \"Topic2\", \"Topic2\", \"Topic2\", \"Topic2\", \"Topic2\", \"Topic2\", \"Topic2\", \"Topic2\", \"Topic2\", \"Topic2\", \"Topic2\", \"Topic3\", \"Topic3\", \"Topic3\", \"Topic3\", \"Topic3\", \"Topic3\", \"Topic3\", \"Topic3\", \"Topic3\", \"Topic3\", \"Topic3\", \"Topic3\", \"Topic3\", \"Topic3\", \"Topic3\", \"Topic3\", \"Topic3\", \"Topic3\", \"Topic3\", \"Topic3\", \"Topic3\", \"Topic3\", \"Topic3\", \"Topic3\", \"Topic3\", \"Topic3\", \"Topic3\", \"Topic3\", \"Topic3\", \"Topic3\", \"Topic3\", \"Topic3\", \"Topic3\", \"Topic3\", \"Topic3\", \"Topic3\", \"Topic3\", \"Topic3\", \"Topic3\", \"Topic3\", \"Topic3\", \"Topic3\", \"Topic3\", \"Topic3\", \"Topic3\", \"Topic3\", \"Topic3\", \"Topic3\", \"Topic3\", \"Topic3\", \"Topic3\", \"Topic3\", \"Topic3\", \"Topic4\", \"Topic4\", \"Topic4\", \"Topic4\", \"Topic4\", \"Topic4\", \"Topic4\", \"Topic4\", \"Topic4\", \"Topic4\", \"Topic4\", \"Topic4\", \"Topic4\", \"Topic4\", \"Topic4\", \"Topic4\", \"Topic4\", \"Topic4\", \"Topic4\", \"Topic4\", \"Topic4\", \"Topic4\", \"Topic4\", \"Topic4\", \"Topic4\", \"Topic4\", \"Topic4\", \"Topic4\", \"Topic4\", \"Topic4\", \"Topic4\", \"Topic4\", \"Topic4\", \"Topic4\", \"Topic4\", \"Topic4\", \"Topic4\", \"Topic4\", \"Topic4\", \"Topic4\", \"Topic4\", \"Topic4\", \"Topic4\", \"Topic4\", \"Topic4\", \"Topic4\", \"Topic4\", \"Topic4\", \"Topic4\", \"Topic4\", \"Topic4\", \"Topic4\", \"Topic4\", \"Topic4\", \"Topic5\", \"Topic5\", \"Topic5\", \"Topic5\", \"Topic5\", \"Topic5\", \"Topic5\", \"Topic5\", \"Topic5\", \"Topic5\", \"Topic5\", \"Topic5\", \"Topic5\", \"Topic5\", \"Topic5\", \"Topic5\", \"Topic5\", \"Topic5\", \"Topic5\", \"Topic5\", \"Topic5\", \"Topic5\", \"Topic5\", \"Topic5\", \"Topic5\", \"Topic5\", \"Topic5\", \"Topic5\", \"Topic5\", \"Topic5\", \"Topic5\", \"Topic5\", \"Topic5\", \"Topic5\", \"Topic5\", \"Topic5\", \"Topic5\", \"Topic5\", \"Topic5\", \"Topic5\", \"Topic5\", \"Topic5\", \"Topic5\", \"Topic5\", \"Topic5\", \"Topic5\", \"Topic5\", \"Topic5\", \"Topic5\", \"Topic5\", \"Topic5\", \"Topic5\", \"Topic5\", \"Topic5\", \"Topic5\"], \"logprob\": [30.0, 29.0, 28.0, 27.0, 26.0, 25.0, 24.0, 23.0, 22.0, 21.0, 20.0, 19.0, 18.0, 17.0, 16.0, 15.0, 14.0, 13.0, 12.0, 11.0, 10.0, 9.0, 8.0, 7.0, 6.0, 5.0, 4.0, 3.0, 2.0, 1.0, -5.2168, -5.5407, -5.6432, -5.8326, -5.8275, -5.9424, -5.9857, -6.0119, -6.0567, -5.9748, -6.1305, -6.1517, -6.177, -6.2199, -6.2145, -6.2246, -5.4868, -6.2707, -6.2949, -6.311, -6.3739, -6.3752, -6.3833, -6.4162, -6.4385, -6.4426, -6.4701, -6.4912, -6.4768, -6.4746, -4.0373, -5.2774, -5.4851, -5.0787, -5.91, -5.2956, -4.9682, -5.082, -5.1395, -4.2185, -5.5545, -5.4844, -5.2045, -4.8656, -5.6567, -5.2469, -4.8351, -5.4643, -5.3871, -4.5552, -5.184, -5.058, -5.6525, -5.3916, -5.7067, -5.3355, -5.5657, -5.6501, -5.5136, -5.5903, -5.6381, -5.4652, -5.4606, -5.5463, -4.487, -5.5893, -5.5304, -5.7597, -5.7712, -5.6296, -5.8313, -6.0051, -6.0225, -6.0656, -6.0583, -6.1, -6.1504, -6.2063, -6.2343, -6.2812, -6.2894, -6.311, -6.3328, -6.3563, -6.3572, -6.3591, -6.3693, -6.4314, -6.4427, -6.4449, -6.4374, -5.2616, -5.5267, -5.3471, -6.1136, -5.1976, -4.523, -4.1844, -5.8555, -5.5984, -5.666, -4.2886, -5.4465, -4.9963, -5.3363, -5.6993, -4.8472, -5.25, -5.5135, -5.7042, -5.4039, -5.4048, -5.5055, -5.4874, -5.2142, -5.4823, -5.4912, -5.6165, -4.8689, -5.1843, -5.2072, -5.2327, -5.3208, -5.3437, -5.3512, -5.3724, -5.776, -5.8223, -5.8553, -5.88, -5.967, -6.0063, -6.0021, -6.096, -6.1379, -6.1325, -6.1848, -6.2221, -6.2211, -6.2207, -6.2414, -6.2664, -6.2759, -6.2998, -6.3524, -6.3548, -6.3713, -6.3958, -5.5038, -5.7513, -4.4028, -5.4016, -4.0266, -5.1897, -5.3038, -5.6881, -5.1243, -5.5722, -5.2364, -5.5524, -5.6994, -5.4115, -5.6129, -5.3427, -5.6314, -5.1709, -5.3388, -5.3169, -5.6122, -5.4916, -5.7143, -4.0526, -4.0743, -4.7023, -5.2626, -5.3772, -5.5501, -5.7546, -5.7999, -5.9134, -5.9536, -5.9635, -5.9476, -6.0718, -6.1117, -6.0865, -6.1411, -6.17, -6.1871, -6.2499, -6.2714, -6.2767, -6.2802, -6.3075, -6.283, -6.3452, -6.3668, -6.4038, -6.4198, -6.4138, -6.4222, -6.0656, -6.4134, -4.0132, -5.1841, -5.7116, -5.287, -5.7519, -5.5244, -5.7204, -5.3022, -4.4406, -5.3541, -5.6456, -4.9932, -5.059, -5.7762, -5.7097, -5.6387, -5.8498, -5.7887, -5.5501, -5.7692, -5.6614, -5.7986, -4.6278, -4.9131, -5.3726, -5.4182, -5.4799, -5.5002, -5.561, -5.5892, -5.6556, -5.696, -5.7075, -5.7229, -5.6878, -5.7306, -5.781, -5.7917, -5.8435, -5.7697, -5.9121, -5.9463, -6.0167, -6.0557, -6.0891, -6.0872, -6.1153, -6.1324, -6.1337, -6.1722, -6.1953, -6.2443, -5.9279, -5.3245, -5.7123, -5.6152, -3.8833, -5.22, -4.5518, -5.4852, -5.7409, -5.4469, -4.7923, -5.0884, -5.2534, -5.1444, -5.4765, -5.4353, -5.4549, -5.5869, -5.5216, -5.4459, -5.4862, -5.6071, -5.4954, -5.6322, -5.5937], \"loglift\": [30.0, 29.0, 28.0, 27.0, 26.0, 25.0, 24.0, 23.0, 22.0, 21.0, 20.0, 19.0, 18.0, 17.0, 16.0, 15.0, 14.0, 13.0, 12.0, 11.0, 10.0, 9.0, 8.0, 7.0, 6.0, 5.0, 4.0, 3.0, 2.0, 1.0, 1.2705, 1.2677, 1.2665, 1.2641, 1.264, 1.2626, 1.262, 1.2612, 1.2605, 1.2603, 1.2592, 1.2588, 1.258, 1.2576, 1.2576, 1.2575, 1.257, 1.2565, 1.2555, 1.2552, 1.2543, 1.2541, 1.2535, 1.2535, 1.2527, 1.2527, 1.2517, 1.2514, 1.2513, 1.2513, 1.1501, 1.1839, 1.1924, 1.1516, 1.1869, 1.0883, 1.0387, 0.981, 0.981, 0.6368, 1.0055, 0.9747, 0.8589, 0.6637, 0.9814, 0.7758, 0.5474, 0.848, 0.771, 0.2066, 0.5564, 0.1013, 0.8006, 0.3471, 0.8259, -0.084, 0.4625, 0.6808, -0.2013, 0.16, 0.5938, 1.5696, 1.5692, 1.5685, 1.5684, 1.5681, 1.5679, 1.5655, 1.5654, 1.5652, 1.5642, 1.5608, 1.5603, 1.5595, 1.5594, 1.5582, 1.5571, 1.5559, 1.5552, 1.5539, 1.5533, 1.553, 1.552, 1.5517, 1.5516, 1.5512, 1.551, 1.549, 1.5488, 1.5488, 1.5485, 1.4776, 1.4895, 1.3918, 1.4982, 1.2529, 0.8594, 0.6709, 1.3339, 1.1855, 1.2194, 0.4732, 1.0804, 0.744, 0.9363, 1.1821, 0.4651, 0.5003, 0.8164, 1.0555, 0.6198, 0.6075, 0.7177, 0.6269, -0.1762, 0.5657, -0.0362, 0.4456, 1.642, 1.639, 1.6387, 1.6384, 1.6373, 1.6372, 1.6371, 1.6366, 1.6302, 1.6288, 1.6286, 1.6281, 1.6262, 1.6255, 1.6252, 1.623, 1.6219, 1.6212, 1.6203, 1.6194, 1.6192, 1.6191, 1.6187, 1.6181, 1.6178, 1.6171, 1.6152, 1.615, 1.6145, 1.6139, 1.5098, 1.5182, 1.2778, 1.4341, 1.1327, 1.2979, 1.3186, 1.3456, 0.9859, 1.1558, 0.8595, 1.107, 1.1877, 0.8751, 1.0381, 0.6768, 0.97, -0.1329, 0.1163, -0.0046, 0.2972, -0.7298, 0.6743, 1.7658, 1.7657, 1.7623, 1.7564, 1.755, 1.7524, 1.7483, 1.7473, 1.7446, 1.7435, 1.7431, 1.7415, 1.7405, 1.7393, 1.739, 1.7381, 1.7374, 1.7368, 1.7347, 1.7341, 1.7337, 1.7337, 1.7329, 1.7325, 1.7315, 1.7302, 1.7292, 1.7287, 1.7285, 1.7282, 1.717, 1.7278, 1.2383, 1.3621, 1.5173, 1.3696, 1.5107, 1.3389, 1.3961, 1.0801, 0.3212, 0.9797, 1.1849, 0.5361, 0.2533, 1.1702, 1.0507, 0.679, 1.1337, 0.8923, -0.3626, 0.5244, -0.2064, 0.3649, 1.8654, 1.8627, 1.8566, 1.8559, 1.8545, 1.854, 1.8531, 1.8526, 1.8511, 1.8502, 1.8499, 1.8494, 1.8491, 1.8488, 1.848, 1.8478, 1.8466, 1.8465, 1.8446, 1.8435, 1.8412, 1.84, 1.839, 1.839, 1.8383, 1.8372, 1.8369, 1.8361, 1.8354, 1.8332, 1.8317, 1.7484, 1.7319, 1.6867, 1.1547, 1.5075, 1.187, 1.576, 1.6627, 1.4323, 0.6627, 0.9579, 0.9698, 0.765, 1.238, 1.1632, 1.1906, 1.3903, 1.1735, 0.8267, 0.7755, 1.293, 0.5667, 1.1468, 0.5531]}, \"token.table\": {\"Topic\": [1, 2, 3, 4, 5, 1, 1, 4, 1, 1, 1, 2, 3, 1, 1, 4, 5, 2, 5, 3, 2, 4, 3, 1, 2, 3, 4, 5, 5, 5, 5, 3, 1, 1, 5, 4, 2, 3, 4, 2, 1, 2, 5, 2, 3, 1, 4, 5, 5, 5, 3, 1, 4, 5, 1, 2, 4, 2, 4, 4, 5, 2, 3, 5, 5, 3, 1, 2, 5, 3, 4, 2, 1, 2, 5, 3, 5, 3, 1, 4, 5, 1, 2, 5, 2, 3, 4, 5, 1, 2, 3, 1, 3, 2, 5, 5, 1, 2, 3, 4, 2, 5, 4, 2, 1, 4, 1, 3, 4, 3, 2, 1, 3, 5, 2, 3, 4, 1, 3, 4, 5, 1, 3, 1, 2, 3, 5, 4, 2, 1, 2, 3, 1, 2, 4, 5, 1, 2, 3, 4, 1, 2, 3, 5, 1, 3, 5, 1, 2, 4, 5, 3, 4, 3, 4, 4, 4, 1, 4, 1, 1, 2, 4, 5, 3, 3, 2, 2, 2, 1, 2, 3, 4, 5, 1, 4, 5, 1, 5, 5, 4, 4, 1, 2, 3, 4, 5, 1, 1, 2, 3, 5, 1, 3, 4, 5, 3, 3, 4, 1, 4, 5, 1, 1, 2, 4, 5, 1, 4, 5, 1, 4, 1, 5, 2, 3, 4, 2, 3, 5, 4, 3, 4, 5, 1, 5, 5, 3, 5, 5, 3, 1, 3, 5, 3, 1, 2, 3, 4, 5, 3, 1, 2, 3, 5, 1, 1, 3, 4, 5, 3, 1, 4, 4, 1, 5, 4, 5, 1, 2, 3, 4, 3, 5, 1, 2, 3, 4, 5, 1, 2, 3, 4, 1, 3, 5, 1, 2, 3, 4, 5, 4, 1, 3, 1, 2, 3, 5, 5, 2, 1, 4, 4, 2, 1, 2, 2, 2, 3, 5, 4, 1, 2, 4, 5, 2, 1, 2, 3, 1, 2, 4, 5, 2, 1, 3, 1, 2, 3, 4, 1, 1, 1, 2, 3, 4, 5, 4, 2, 1, 2, 1, 3, 4, 1, 4, 4, 1, 1, 3, 4, 3, 5, 2, 1, 2, 3, 5, 3, 2, 2, 5, 1, 5, 4, 1, 2, 4, 5, 1, 2, 3, 1, 1, 5, 1, 4, 1, 2, 2, 4, 1, 2, 3, 4, 2, 1, 2, 3, 5, 4, 5, 5, 3, 4, 5, 1, 2, 4, 1, 2, 3, 5, 1, 2, 1, 5, 3, 1, 2, 3, 4, 5, 1, 2, 3, 4, 2, 1, 2, 2, 4, 5, 4, 1, 4, 5, 1, 4, 2, 3, 4, 5, 3, 1, 2, 3, 4, 1, 2, 3, 4, 5, 3, 1, 2, 3, 4, 5, 1, 2, 3, 4, 5, 4, 2, 4, 4, 1, 5, 2, 5, 1, 2, 3, 4, 2, 5, 1, 2, 3, 4, 5, 1, 2, 2, 2, 3, 1, 2, 3, 4, 1, 2, 4, 5, 1, 3, 4, 5, 1, 2, 3, 4, 5, 1, 2, 5, 1, 2, 3, 4], \"Freq\": [0.4024254465605359, 0.23102201561808544, 0.06707090776008932, 0.03726161542227185, 0.2682836310403573, 0.9728003200041544, 0.9963902082261333, 0.9690818575015335, 0.9868636723390467, 0.9779416771116821, 0.9914278259981325, 0.9790675254668141, 0.9832290229870082, 0.9815352071264333, 0.20575660075086266, 0.23741146240484154, 0.5539600789446303, 0.971123409231955, 0.9615221861864413, 0.9713840247590643, 0.9562221073136826, 0.9834080446688643, 0.9721684866933742, 0.23619499425027893, 0.1902681898127247, 0.3805363796254494, 0.1640243015626937, 0.03280486031253874, 0.9588307353622565, 0.9924072170725082, 0.9717925631463942, 0.9648447872794517, 0.9756917761996509, 0.9909575039672851, 0.9765507890297667, 0.9377025019679924, 0.9581923127144947, 0.8688100618868504, 0.12411572312669292, 0.9899813932154848, 0.7430066852748652, 0.1461652495622686, 0.10962393717170144, 0.985659889312143, 0.9782243851094099, 0.740382823220813, 0.21775965388847437, 0.03629327564807906, 0.9904574099880102, 0.9852807811981226, 0.9812755513783051, 0.130162576628848, 0.11156792282472686, 0.7437861521648457, 0.6357010991330252, 0.33977127712282384, 0.021920727556311213, 0.906586345464746, 0.07110481140899969, 0.9563562593527859, 0.03825425037411143, 0.11989922656637018, 0.7193953593982211, 0.15586899453628125, 0.9677973901090831, 0.9721507697720715, 0.9083221805656456, 0.08164693757893443, 0.010205867197366804, 0.20469085708778187, 0.7732765712205093, 0.9827017612363624, 0.7660217606539292, 0.2365655437313605, 0.9695355849919153, 0.9665972274740768, 0.9684969865408073, 0.9870117614680946, 0.9122223106650702, 0.07601852588875585, 0.9531336804913303, 0.1689212931596729, 0.4182812973477614, 0.4021935551420783, 0.7821725251456112, 0.14797858583835888, 0.06341939393072522, 0.9633019325622201, 0.9775350259058849, 0.9804151641507305, 0.9738432850715968, 0.6174606221544083, 0.37452529540513296, 0.667974347072329, 0.32622002996555605, 0.9874202777817075, 0.3713163398310129, 0.37783066158243417, 0.16285804378553198, 0.08468618276847663, 0.1833007841190517, 0.8117606153843718, 0.9932359456927539, 0.974606766648512, 0.44761779666291784, 0.5470884181435662, 0.9876546723362659, 0.9895467774305184, 0.960895136078869, 0.9843477682337316, 0.9927440951018703, 0.973599165694413, 0.7020809351487223, 0.29340695797260036, 0.13755768910478838, 0.1572087875483296, 0.6877884455239419, 0.2657372292256349, 0.04428953820427249, 0.5610008172541182, 0.13286861461281746, 0.6507077895196998, 0.3429405917738958, 0.056370313459962414, 0.6764437615195489, 0.14092578364990602, 0.14092578364990602, 0.9657596500461839, 0.953971735580098, 0.39378103881343157, 0.4653775913249646, 0.13424353595912442, 0.3964292738887804, 0.04955365923609755, 0.054509025159707306, 0.505447324208195, 0.33079632015406885, 0.3645510467004024, 0.1755245780409345, 0.1282679608760675, 0.29449165915280046, 0.012270485798033352, 0.19632777276853364, 0.5030899177193675, 0.17091229779136835, 0.28923619626231567, 0.5258839932042103, 0.25570683623487295, 0.06697083806151434, 0.5875168975396485, 0.08827974108108709, 0.9626604531468143, 0.9831433250200495, 0.9663470417213134, 0.9561666037093873, 0.9782635390753583, 0.964223362209699, 0.9834997402624804, 0.9833766919930537, 0.9781871795021503, 0.15255815563257225, 0.030511631126514453, 0.6560000692200607, 0.1678139711958295, 0.9896414008096048, 0.9883519642321683, 0.9659413845220016, 0.9809477146410187, 0.9545037151678435, 0.1240748335275816, 0.07444490011654896, 0.07444490011654896, 0.6700041010489407, 0.0620374167637908, 0.45740504188697817, 0.28479936570321285, 0.25027823046645975, 0.37613009751549287, 0.615485614116261, 0.9487372289282655, 0.9673999946288566, 0.9804063272660429, 0.5264171146970938, 0.4014698617923361, 0.01024157810694735, 0.0614494686416841, 0.9892952483199756, 0.9883185901744796, 0.050289662437915564, 0.316106449609755, 0.5172650993614173, 0.11494779985809273, 0.1866440320396242, 0.5848179670574892, 0.0622146773465414, 0.16175816110100766, 0.9974340934434889, 0.801454064113661, 0.1929426450643999, 0.2804335620263537, 0.22434684962108295, 0.47673705544480127, 0.955655209566877, 0.3487285633031702, 0.6102749857805478, 0.021795535206448138, 0.021795535206448138, 0.9719683079627733, 0.7696210410578953, 0.2198917260165415, 0.4645304039494974, 0.5333497230531267, 0.03738791430484314, 0.9720857719259215, 0.41293760640995564, 0.09635210816232298, 0.4817605408116149, 0.25327621775009007, 0.7417374948395495, 0.9806376770912042, 0.9980543417818147, 0.6129547912598814, 0.26650208315647017, 0.10660083326258805, 0.293019126452177, 0.6925906625233275, 0.9775060865131829, 0.9853983858887804, 0.9773236559111362, 0.9733895229398233, 0.9884825715593237, 0.09365851540808226, 0.4097560049103599, 0.4917072058924319, 0.9742615955500574, 0.2703508028029063, 0.11754382730561144, 0.2585964200723452, 0.017631574095841717, 0.32912271645571206, 0.9952921249103638, 0.015596333378619215, 0.7018350020378646, 0.12477066702895372, 0.17155966716481136, 0.9859819054313486, 0.19711871331180342, 0.46280045734075587, 0.05999265187750539, 0.2828225017082397, 0.9726797923781075, 0.9848133478830855, 0.9794909035583145, 0.994117841573316, 0.8312426960027831, 0.17002691509147838, 0.10909060469011134, 0.8727248375208907, 0.4864020882311744, 0.43180593547053236, 0.024816433073019104, 0.054596152760642024, 0.8702274126761572, 0.11450360693107331, 0.21909674626012013, 0.32179834606955143, 0.12324191977131757, 0.06846773320628755, 0.2738709328251502, 0.32582974007133747, 0.3408680357669377, 0.18547231357906904, 0.15038295695600193, 0.42631909048703437, 0.24241673772792152, 0.33436791410747796, 0.1492466788579123, 0.1977518494867338, 0.21640768434397284, 0.1380531779435689, 0.2984933577158246, 0.9979790576542178, 0.9815496574872874, 0.960198984218002, 0.5464493970856048, 0.08958186837468932, 0.2329128577741922, 0.12541461572456503, 0.9791700236141687, 0.9744693188090422, 0.9057631526748798, 0.07708622575956424, 0.9535351232771512, 0.9776843812141311, 0.7401611795188373, 0.2535737374277498, 0.9630630244199917, 0.5239382476321806, 0.11830863656210529, 0.3549259096863159, 0.9406166049204684, 0.08077568457236449, 0.7168842005797348, 0.020193921143091122, 0.18174529028782008, 0.9795698599616076, 0.3081267554543455, 0.09438116833736708, 0.5968220938980565, 0.6029166353585483, 0.15072915883963708, 0.15072915883963708, 0.0979739532457641, 0.9795698651946078, 0.35934636594111125, 0.6249502016367152, 0.3755616923122855, 0.3821504939317993, 0.15154243724881694, 0.09224322267319293, 0.9845701518637365, 0.9859686711532902, 0.6056154980140627, 0.21723164602678333, 0.006582777152326768, 0.10532443443722829, 0.07241054867559445, 0.9755237372660522, 0.9960673676242704, 0.16165260997874514, 0.8217341007252877, 0.316980692305919, 0.5048211025612784, 0.16436035897343948, 0.9908788725683924, 0.983227248441717, 0.9775066269755339, 0.9826187738752238, 0.9919712760302623, 0.9687568118557088, 0.9429754167359752, 0.9886116344933581, 0.9870570384516727, 0.9844845286874261, 0.443425166910037, 0.1125108632458303, 0.25149487078479715, 0.19193029612523993, 0.9692415738010706, 0.991070267451192, 0.9547680274698204, 0.9761428772083273, 0.9704609715228665, 0.9691495766160066, 0.9867488700378643, 0.2670028333295475, 0.12714420634740356, 0.4195758809464318, 0.2034307301558457, 0.7331969524026006, 0.25458227513979187, 0.010183291005591675, 0.9951701770694135, 0.9814178479692255, 0.9897937030480976, 0.8794049321397741, 0.11991885438269646, 0.7840238292594606, 0.2073451449281218, 0.9750090930547066, 0.9852681569017021, 0.1333170059345264, 0.15553650692361412, 0.0333292514836316, 0.666585029672632, 0.967634236424833, 0.3541116122101745, 0.04957562570942443, 0.45326286362902335, 0.1416446448840698, 0.9583816728367048, 0.9664196626985702, 0.9715902883955391, 0.9840360737503644, 0.9753858430948477, 0.9721256269173862, 0.482321930818572, 0.48579187276690705, 0.031229477535015454, 0.2344442005954108, 0.22210503214302074, 0.5429234119051618, 0.9794470561425347, 0.9746711445799413, 0.013537099230276963, 0.165577254784191, 0.827886273920955, 0.9826155410548796, 0.2264412973534251, 0.3267224433242277, 0.1908576649121726, 0.21997154600047011, 0.03558363244125252, 0.10753316821899667, 0.1449360093386477, 0.6872772055735874, 0.056104261679476526, 0.987046779742116, 0.976021741784744, 0.9731861415524226, 0.9861684266383208, 0.013602323126045804, 0.9609870514588776, 0.9856372418857927, 0.29658909619241175, 0.206322849525156, 0.5029119457175678, 0.9776188456859015, 0.9693409065386072, 0.2546311958591752, 0.11316942038185564, 0.4998316066865291, 0.13203099044549824, 0.9507451554417681, 0.3432521950769978, 0.33019368765559026, 0.09327505301005375, 0.23505313358533544, 0.12294030587025138, 0.17211642821835194, 0.1671988159835419, 0.04917612234810056, 0.4868436112461955, 0.9821563864359102, 0.18567379843142479, 0.18567379843142479, 0.20335701732965572, 0.3359811590663877, 0.07957448504203919, 0.2500755583700225, 0.16671703891334833, 0.1970292278066844, 0.2424975111466885, 0.1439828972433463, 0.9394629469851139, 0.9029508547329437, 0.0644964896237817, 0.9572994060103179, 0.3410262118745603, 0.6355488494025896, 0.9448776549003579, 0.9842673152853425, 0.5425304878273882, 0.06831865402270815, 0.0964498645026468, 0.2893495935079404, 0.11288209936488532, 0.8842431116916016, 0.5031128076389328, 0.09737667244624507, 0.2353269584117589, 0.11360611785395257, 0.04868833622312253, 0.8830168548994557, 0.11341500888616862, 0.9841404190338761, 0.9028678200393766, 0.09432947373545726, 0.3607066959193811, 0.38234909767454395, 0.16592508012291532, 0.09378374093903909, 0.16504555362257164, 0.5914132338142151, 0.11003036908171442, 0.12378416521692873, 0.360619540694341, 0.37959951652035895, 0.11387985495610768, 0.15183980660814358, 0.3639221009024195, 0.006739298164859621, 0.1280466651323328, 0.09435017430803469, 0.39761859172671765, 0.6581437390013573, 0.23994823817757815, 0.10283495921896206, 0.22462022819436575, 0.24258984644991502, 0.07187847302219705, 0.45822526551650616], \"Term\": [\"000\", \"000\", \"000\", \"000\", \"000\", \"2008\", \"2015\", \"25\", \"3\", \"4\", \"6\", \"80\", \"ability\", \"according\", \"additional\", \"additional\", \"additional\", \"age\", \"agriculture\", \"aid\", \"aim\", \"air\", \"airport\", \"also\", \"also\", \"also\", \"also\", \"also\", \"amend\", \"animal\", \"animals\", \"armed\", \"authorities\", \"bad\", \"ban\", \"banning\", \"basis\", \"believes\", \"believes\", \"big\", \"billion\", \"billion\", \"billion\", \"bills\", \"boost\", \"brexit\", \"brexit\", \"brexit\", \"britain\", \"budgets\", \"bus\", \"business\", \"business\", \"business\", \"businesses\", \"businesses\", \"businesses\", \"call\", \"call\", \"capacity\", \"capacity\", \"care\", \"care\", \"care\", \"cars\", \"chamber\", \"change\", \"change\", \"change\", \"charging\", \"charging\", \"child\", \"climate\", \"climate\", \"coal\", \"comes\", \"commercial\", \"commons\", \"communities\", \"communities\", \"conservatives\", \"cost\", \"cost\", \"cost\", \"council\", \"council\", \"council\", \"councils\", \"countryside\", \"credit\", \"crisis\", \"current\", \"current\", \"cut\", \"cut\", \"cutting\", \"cymru\", \"cymru\", \"cymru\", \"cymru\", \"day\", \"day\", \"deal\", \"delivers\", \"democracy\", \"democracy\", \"devolution\", \"diesel\", \"direct\", \"disabled\", \"done\", \"drivers\", \"dup\", \"dup\", \"duty\", \"duty\", \"duty\", \"economic\", \"economic\", \"economic\", \"economic\", \"economy\", \"economy\", \"education\", \"education\", \"education\", \"education\", \"effect\", \"efforts\", \"end\", \"end\", \"end\", \"energy\", \"energy\", \"energy\", \"energy\", \"ensure\", \"ensure\", \"ensure\", \"ensure\", \"environment\", \"environment\", \"environment\", \"environment\", \"environmental\", \"environmental\", \"environmental\", \"eu\", \"eu\", \"eu\", \"eu\", \"expansion\", \"exports\", \"fairer\", \"farm\", \"farmers\", \"farms\", \"figures\", \"fish\", \"flooding\", \"food\", \"food\", \"food\", \"food\", \"forces\", \"foreign\", \"freeze\", \"fuel\", \"funded\", \"funding\", \"funding\", \"funding\", \"funding\", \"funding\", \"future\", \"future\", \"future\", \"gas\", \"gas\", \"general\", \"given\", \"global\", \"government\", \"government\", \"government\", \"government\", \"green\", \"hands\", \"health\", \"health\", \"health\", \"health\", \"help\", \"help\", \"help\", \"help\", \"house\", \"housing\", \"housing\", \"however\", \"however\", \"however\", \"hs2\", \"increase\", \"increase\", \"increase\", \"increase\", \"independence\", \"industrial\", \"industrial\", \"industry\", \"industry\", \"intensive\", \"intensive\", \"international\", \"international\", \"international\", \"introduce\", \"introduce\", \"investing\", \"ireland\", \"issues\", \"issues\", \"issues\", \"jobs\", \"jobs\", \"keeping\", \"kingdom\", \"land\", \"left\", \"legal\", \"legislation\", \"legislation\", \"legislation\", \"legislature\", \"local\", \"local\", \"local\", \"local\", \"local\", \"lords\", \"low\", \"low\", \"low\", \"low\", \"lower\", \"make\", \"make\", \"make\", \"make\", \"matter\", \"matters\", \"membership\", \"mep\", \"million\", \"million\", \"money\", \"money\", \"mps\", \"mps\", \"mps\", \"mps\", \"much\", \"much\", \"must\", \"must\", \"must\", \"must\", \"must\", \"national\", \"national\", \"national\", \"national\", \"need\", \"need\", \"need\", \"new\", \"new\", \"new\", \"new\", \"new\", \"northern\", \"nuclear\", \"older\", \"one\", \"one\", \"one\", \"one\", \"open\", \"operate\", \"opportunity\", \"opportunity\", \"option\", \"parks\", \"parliament\", \"parliament\", \"parliamentary\", \"party\", \"party\", \"party\", \"passenger\", \"pay\", \"pay\", \"pay\", \"pay\", \"pension\", \"people\", \"people\", \"people\", \"per\", \"per\", \"per\", \"per\", \"personnel\", \"place\", \"place\", \"plaid\", \"plaid\", \"plaid\", \"plaid\", \"plastic\", \"pledges\", \"policy\", \"policy\", \"policy\", \"policy\", \"policy\", \"politicians\", \"politics\", \"poverty\", \"poverty\", \"power\", \"power\", \"power\", \"powers\", \"present\", \"prevents\", \"prices\", \"prioritising\", \"prison\", \"problems\", \"promote\", \"proportional\", \"proved\", \"public\", \"public\", \"public\", \"public\", \"puts\", \"referenda\", \"remove\", \"removing\", \"repeal\", \"representation\", \"rest\", \"review\", \"review\", \"review\", \"review\", \"rights\", \"rights\", \"rights\", \"rural\", \"say\", \"schools\", \"scotland\", \"scotland\", \"scottish\", \"scottish\", \"scrapping\", \"sea\", \"security\", \"security\", \"security\", \"security\", \"self\", \"services\", \"services\", \"services\", \"services\", \"severely\", \"shale\", \"simply\", \"single\", \"site\", \"smaller\", \"snp\", \"snp\", \"snp\", \"social\", \"social\", \"social\", \"spokesman\", \"stand\", \"stand\", \"standards\", \"standards\", \"start\", \"support\", \"support\", \"support\", \"support\", \"support\", \"system\", \"system\", \"system\", \"system\", \"tackle\", \"taken\", \"targets\", \"tax\", \"tax\", \"taxes\", \"testing\", \"time\", \"time\", \"time\", \"total\", \"tourism\", \"trade\", \"trade\", \"trade\", \"trade\", \"transport\", \"uk\", \"uk\", \"uk\", \"uk\", \"ukip\", \"ukip\", \"ukip\", \"ukip\", \"ukip\", \"united\", \"us\", \"us\", \"us\", \"us\", \"us\", \"use\", \"use\", \"use\", \"use\", \"use\", \"value\", \"vat\", \"vat\", \"vehicle\", \"vehicles\", \"vehicles\", \"violence\", \"votes\", \"wales\", \"wales\", \"wales\", \"wales\", \"welfare\", \"welfare\", \"welsh\", \"welsh\", \"welsh\", \"welsh\", \"welsh\", \"westminster\", \"westminster\", \"wildlife\", \"women\", \"women\", \"work\", \"work\", \"work\", \"work\", \"working\", \"working\", \"working\", \"working\", \"world\", \"world\", \"world\", \"world\", \"would\", \"would\", \"would\", \"would\", \"would\", \"year\", \"year\", \"year\", \"years\", \"years\", \"years\", \"years\"]}, \"R\": 30, \"lambda.step\": 0.01, \"plot.opts\": {\"xlab\": \"PC1\", \"ylab\": \"PC2\"}, \"topic.order\": [4, 5, 1, 2, 3]};\n",
              "\n",
              "function LDAvis_load_lib(url, callback){\n",
              "  var s = document.createElement('script');\n",
              "  s.src = url;\n",
              "  s.async = true;\n",
              "  s.onreadystatechange = s.onload = callback;\n",
              "  s.onerror = function(){console.warn(\"failed to load library \" + url);};\n",
              "  document.getElementsByTagName(\"head\")[0].appendChild(s);\n",
              "}\n",
              "\n",
              "if(typeof(LDAvis) !== \"undefined\"){\n",
              "   // already loaded: just create the visualization\n",
              "   !function(LDAvis){\n",
              "       new LDAvis(\"#\" + \"ldavis_el27701382805116538086894319951\", ldavis_el27701382805116538086894319951_data);\n",
              "   }(LDAvis);\n",
              "}else if(typeof define === \"function\" && define.amd){\n",
              "   // require.js is available: use it to load d3/LDAvis\n",
              "   require.config({paths: {d3: \"https://d3js.org/d3.v5\"}});\n",
              "   require([\"d3\"], function(d3){\n",
              "      window.d3 = d3;\n",
              "      LDAvis_load_lib(\"https://cdn.jsdelivr.net/gh/bmabey/pyLDAvis@3.4.0/pyLDAvis/js/ldavis.v3.0.0.js\", function(){\n",
              "        new LDAvis(\"#\" + \"ldavis_el27701382805116538086894319951\", ldavis_el27701382805116538086894319951_data);\n",
              "      });\n",
              "    });\n",
              "}else{\n",
              "    // require.js not available: dynamically load d3 & LDAvis\n",
              "    LDAvis_load_lib(\"https://d3js.org/d3.v5.js\", function(){\n",
              "         LDAvis_load_lib(\"https://cdn.jsdelivr.net/gh/bmabey/pyLDAvis@3.4.0/pyLDAvis/js/ldavis.v3.0.0.js\", function(){\n",
              "                 new LDAvis(\"#\" + \"ldavis_el27701382805116538086894319951\", ldavis_el27701382805116538086894319951_data);\n",
              "            })\n",
              "         });\n",
              "}\n",
              "</script>"
            ]
          },
          "metadata": {},
          "execution_count": 8
        }
      ]
    },
    {
      "cell_type": "markdown",
      "source": [
        "*4*\n",
        "\n",
        "There are 5 topics that cover the most frequent terms of the party platforms focusing on the issues that each region and UKIP must focus on to have a \"successfull\" brexit. The topics I have found are Societal Systems and Brexit Implications, Geopolitical Dynamics and Regional Identities, Economic and Environmental Strategies, and Governance and Fiscal Policies."
      ],
      "metadata": {
        "id": "_ppcuP9_H0oj"
      }
    },
    {
      "cell_type": "markdown",
      "source": [
        "### Save pyLDAvis as HTML"
      ],
      "metadata": {
        "id": "514RT_Jt_hcH"
      }
    },
    {
      "cell_type": "code",
      "source": [
        "pyLDAvis.save_html(pyldavis_data, 'visualization.html')"
      ],
      "metadata": {
        "colab": {
          "base_uri": "https://localhost:8080/"
        },
        "id": "nCRFWwKD_kdy",
        "outputId": "90db1c3c-52e9-4690-94b1-706d2a2e3c6a"
      },
      "execution_count": null,
      "outputs": [
        {
          "output_type": "stream",
          "name": "stderr",
          "text": [
            "/usr/local/lib/python3.10/dist-packages/ipykernel/ipkernel.py:283: DeprecationWarning: `should_run_async` will not call `transform_cell` automatically in the future. Please pass the result to `transformed_cell` argument and any exception that happen during thetransform in `preprocessing_exc_tuple` in IPython 7.17 and above.\n",
            "  and should_run_async(code)\n"
          ]
        }
      ]
    },
    {
      "cell_type": "markdown",
      "source": [
        "*5.* **Societal Systems and Brexit Implications (Topic 1)**\n",
        "\n",
        "In Topic 1 the data reveals an interpretation by regional parties such as UKIP and the DUP of Brexit's ramifications on societal infrastructures. The prevalent terms - \"people,\" \"system,\" \"house,\" \"health\" - underscore a deep-seated concern for the holistic well-being of citizens within the post-Brexit context.  The focus on \"health,\" \"ukip,\" \"united,\" and \"services\" reflects that there was a critical discourse on the reconfiguration of national healthcare and service frameworks, adapting to new socio-political realities. Furthermore, the incorporation of terms like \"diesel\" and \"single\" an awareness of environmental and economic challenges.\n",
        "\n",
        "**Geopolitical Dynamics and Regional Identities (Topics 2 and 4)**\n",
        "\n",
        "Topics 2 and 4 encapsulate the intricate geopolitical and regional identity shifts in the Brexit epoch. Topic 2, with its emphasis on \"eu,\" \"ireland,\" \"northern,\" and \"uk,\" brings to light pivotal issues such as the Northern Ireland border dilemma and the UK's redefined relationship with the EU. This analysis elucidates concerns over international security, global positioning, and financial resilience in a post-Brexit world. Simultaneously, Topic 4 offers insights into Scotland and Wales' strategic positioning, with terms like \"scotland,\" \"government,\" \"snp,\" and \"wales.\" The prominence of \"westminster\" and \"parliament\" in this discourse suggests a critical engagement with power dynamics and autonomy within the UK, highlighting regional parties' advocacy for increased self-governance post-Brexit.\n",
        "\n",
        "**Economic and Environmental Strategies (Topic 3)**\n",
        "\n",
        "Topic 3's is characterized by \"ukip,\" \"energy,\" \"britain,\" and \"new,\" indicates a strategic redirection towards economic and environmental issues. The inclusion of \"animal,\" \"local,\" \"jobs,\" and \"cost\" points to a strategic balance between economic growth, environmental conservation, and animal welfare. This implies that regional parties are proactively adapting to Brexit-induced economic transformations while also prioritizing sustainable, community-oriented policies.\n",
        "\n",
        "**Governance and Fiscal Policies (Topic 5):**\n",
        "\n",
        "Topic 5 centeres around governance and fiscal management, with key terms like \"government,\" \"uk,\" \"tax,\" and \"snp.\" The analysis highlights a focus on reorganizing government spending and taxation strategies in the post-Brexit scenario. The mention of \"women\" in this context indicates a recognition of gender-sensitive policy-making.\n",
        "\n",
        "**Conclusion**\n",
        "Overall, the topic modeling analysis  portrays how UK regional parties and UKIP are strategically navigating the complex challenges in post-Brexit Britain. Their approaches, encompassing societal, healthcare, geopolitical, economic, and governance aspects, demonstrate a concerted effort to address regional nuances alongside broader national concerns within an evolving political and economic framework while trying to focus on moving foward past brexit onto other pollcy topics."
      ],
      "metadata": {
        "id": "QRCgk00YFzba"
      }
    }
  ]
}